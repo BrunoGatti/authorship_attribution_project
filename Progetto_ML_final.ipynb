{
  "cells": [
    {
      "cell_type": "markdown",
      "source": [
        "## Introduzione al progetto"
      ],
      "metadata": {
        "id": "S2BH76ZCVo2l"
      }
    },
    {
      "cell_type": "markdown",
      "source": [
        "Lo scopo di questo progetto è quello di testare diverse tecnologie improntate sul paradigma del machine learning per generare un modello che sia in grado di espletare il task di \"Autorship attribution\"."
      ],
      "metadata": {
        "id": "JnuW7coRyykK"
      }
    },
    {
      "cell_type": "markdown",
      "source": [
        "\n",
        "Autorship Attribution è il problema di identificare l'autore di un determinato testo.\n",
        "Da un punto di vista del Machine Learning, il problema è un problema di classificazione.\n",
        "\n",
        "### Il dataset\n",
        "Il dataset utilizzato è il  [\"Fifty Victorian Era Novelists Authorship Attribution Data\n",
        "\"](https://dataworks.iupui.edu/handle/11243/23). Questo è il più grande datset di autorship attribution publicamente disponibile, e contiene i lavori di 50 autori dell'era vittoriana.\n",
        "Ogni istanza è un testo di 1000 parole attribuite ad un singolo autore.\n",
        "\n",
        "Abbiamo adottato un approccio di apprendimento supervisionato, in cui i modelli sono stati addestrati su un insieme di dati etichettati contenenti sia i testi che gli autori corrispondenti. Ciò ci ha permesso di costruire modelli in grado di generalizzare e predire gli autori di nuovi testi non appresi in fase di addestramento.\n",
        "\n",
        "### Informazioni utili riguardanti questo notebook\n",
        "Alcune sezioni saranno marcate con delle diciture:\n",
        "1. [To run] indica che le celle di questa sezione non contengono informazioni utili per il progetto, ma solo sezioni di codice da eseguire\n",
        "2. [Esperimento fallito] indica che le sezioni di codice non vanno eseguite in quanto per diversi motivi non è stato possibile concludere il processo di esecuzione (generalmente perchè impiegavano troppo tempo ad essere eseguite)"
      ],
      "metadata": {
        "id": "-eoKP7i1x5mx"
      }
    },
    {
      "cell_type": "markdown",
      "source": [
        "## Imports e utils [To run]"
      ],
      "metadata": {
        "id": "tcrTdH9ZVVKZ"
      }
    },
    {
      "cell_type": "code",
      "execution_count": null,
      "metadata": {
        "colab": {
          "base_uri": "https://localhost:8080/"
        },
        "id": "SIjf2_RTWDpw",
        "outputId": "5acb544f-6a9c-4392-a480-3fcff3f5ea22"
      },
      "outputs": [
        {
          "output_type": "stream",
          "name": "stdout",
          "text": [
            "Requirement already satisfied: scikit-optimize in /usr/local/lib/python3.10/dist-packages (0.9.0)\n",
            "Requirement already satisfied: joblib>=0.11 in /usr/local/lib/python3.10/dist-packages (from scikit-optimize) (1.3.2)\n",
            "Requirement already satisfied: pyaml>=16.9 in /usr/local/lib/python3.10/dist-packages (from scikit-optimize) (23.12.0)\n",
            "Requirement already satisfied: numpy>=1.13.3 in /usr/local/lib/python3.10/dist-packages (from scikit-optimize) (1.23.5)\n",
            "Requirement already satisfied: scipy>=0.19.1 in /usr/local/lib/python3.10/dist-packages (from scikit-optimize) (1.11.4)\n",
            "Requirement already satisfied: scikit-learn>=0.20.0 in /usr/local/lib/python3.10/dist-packages (from scikit-optimize) (1.2.2)\n",
            "Requirement already satisfied: PyYAML in /usr/local/lib/python3.10/dist-packages (from pyaml>=16.9->scikit-optimize) (6.0.1)\n",
            "Requirement already satisfied: threadpoolctl>=2.0.0 in /usr/local/lib/python3.10/dist-packages (from scikit-learn>=0.20.0->scikit-optimize) (3.2.0)\n",
            "Requirement already satisfied: seaborn in /usr/local/lib/python3.10/dist-packages (0.13.1)\n",
            "Requirement already satisfied: numpy!=1.24.0,>=1.20 in /usr/local/lib/python3.10/dist-packages (from seaborn) (1.23.5)\n",
            "Requirement already satisfied: pandas>=1.2 in /usr/local/lib/python3.10/dist-packages (from seaborn) (1.5.3)\n",
            "Requirement already satisfied: matplotlib!=3.6.1,>=3.4 in /usr/local/lib/python3.10/dist-packages (from seaborn) (3.7.1)\n",
            "Requirement already satisfied: contourpy>=1.0.1 in /usr/local/lib/python3.10/dist-packages (from matplotlib!=3.6.1,>=3.4->seaborn) (1.2.0)\n",
            "Requirement already satisfied: cycler>=0.10 in /usr/local/lib/python3.10/dist-packages (from matplotlib!=3.6.1,>=3.4->seaborn) (0.12.1)\n",
            "Requirement already satisfied: fonttools>=4.22.0 in /usr/local/lib/python3.10/dist-packages (from matplotlib!=3.6.1,>=3.4->seaborn) (4.47.2)\n",
            "Requirement already satisfied: kiwisolver>=1.0.1 in /usr/local/lib/python3.10/dist-packages (from matplotlib!=3.6.1,>=3.4->seaborn) (1.4.5)\n",
            "Requirement already satisfied: packaging>=20.0 in /usr/local/lib/python3.10/dist-packages (from matplotlib!=3.6.1,>=3.4->seaborn) (23.2)\n",
            "Requirement already satisfied: pillow>=6.2.0 in /usr/local/lib/python3.10/dist-packages (from matplotlib!=3.6.1,>=3.4->seaborn) (9.4.0)\n",
            "Requirement already satisfied: pyparsing>=2.3.1 in /usr/local/lib/python3.10/dist-packages (from matplotlib!=3.6.1,>=3.4->seaborn) (3.1.1)\n",
            "Requirement already satisfied: python-dateutil>=2.7 in /usr/local/lib/python3.10/dist-packages (from matplotlib!=3.6.1,>=3.4->seaborn) (2.8.2)\n",
            "Requirement already satisfied: pytz>=2020.1 in /usr/local/lib/python3.10/dist-packages (from pandas>=1.2->seaborn) (2023.3.post1)\n",
            "Requirement already satisfied: six>=1.5 in /usr/local/lib/python3.10/dist-packages (from python-dateutil>=2.7->matplotlib!=3.6.1,>=3.4->seaborn) (1.16.0)\n"
          ]
        }
      ],
      "source": [
        "!pip install scikit-optimize\n",
        "!pip install seaborn\n"
      ]
    },
    {
      "cell_type": "code",
      "execution_count": null,
      "metadata": {
        "colab": {
          "base_uri": "https://localhost:8080/"
        },
        "id": "_YhZq194nuIu",
        "outputId": "52f59ea3-7fe3-4cf2-8080-ce23991fcdce"
      },
      "outputs": [
        {
          "output_type": "stream",
          "name": "stderr",
          "text": [
            "[nltk_data] Downloading package punkt to /root/nltk_data...\n",
            "[nltk_data]   Package punkt is already up-to-date!\n",
            "[nltk_data] Downloading package stopwords to /root/nltk_data...\n",
            "[nltk_data]   Package stopwords is already up-to-date!\n"
          ]
        },
        {
          "output_type": "execute_result",
          "data": {
            "text/plain": [
              "True"
            ]
          },
          "metadata": {},
          "execution_count": 17
        }
      ],
      "source": [
        "# cambia il path con la cartella del progetto\n",
        "PROJECT_FOLDER=\"./\"\n",
        "\n",
        "# Import\n",
        "from google.colab import drive\n",
        "\n",
        "from sklearn.model_selection import GridSearchCV\n",
        "\n",
        "from skopt import BayesSearchCV\n",
        "import joblib\n",
        "from sklearn.decomposition import PCA\n",
        "from sklearn.naive_bayes import MultinomialNB\n",
        "from sklearn.neighbors import KNeighborsClassifier\n",
        "from sklearn.svm import SVC\n",
        "import pandas as pd\n",
        "from sklearn.model_selection import train_test_split\n",
        "from sklearn.feature_extraction.text import TfidfVectorizer, CountVectorizer\n",
        "from sklearn.linear_model import LogisticRegression\n",
        "from sklearn.pipeline import Pipeline\n",
        "import matplotlib.pyplot as plt\n",
        "from sklearn.pipeline import make_pipeline\n",
        "from sklearn.model_selection import cross_val_score, StratifiedKFold\n",
        "from sklearn.metrics import make_scorer, accuracy_score, classification_report\n",
        "from sklearn.decomposition import TruncatedSVD\n",
        "from gensim.models import Word2Vec\n",
        "from sklearn.preprocessing import LabelEncoder\n",
        "from sklearn.naive_bayes import MultinomialNB\n",
        "import numpy as np\n",
        "import nltk\n",
        "import re\n",
        "\n",
        "# Download NLTK punkt tokenizer\n",
        "nltk.download('punkt')\n",
        "# Download NLTK stopwords\n",
        "nltk.download('stopwords')"
      ]
    },
    {
      "cell_type": "markdown",
      "metadata": {
        "id": "NzmxN2jgMgNo"
      },
      "source": [
        "### Utils\n",
        "\n",
        "in questa sezione ci sono alcune funzioni che definisco per semplificare sezioni future."
      ]
    },
    {
      "cell_type": "code",
      "execution_count": null,
      "metadata": {
        "id": "_xkAoiXQMphB"
      },
      "outputs": [],
      "source": [
        "def preprocess_text(text):\n",
        "    # Tokenization usando NLTK\n",
        "    tokens = nltk.word_tokenize(text.lower())\n",
        "\n",
        "    # Rimuovi stopwords and non-alphabetic tokens\n",
        "    stop_words = set(nltk.corpus.stopwords.words('english'))\n",
        "    tokens = [token for token in tokens if token.isalpha() and token not in stop_words]\n",
        "\n",
        "    return tokens\n",
        "\n",
        "\n",
        "# Funzione per generare gli embeddings dei documenti usando Word2Vec\n",
        "def get_doc_embedding(tokens):\n",
        "    word_embeddings = [word2vec_model.wv[word] for word in tokens if word in word2vec_model.wv]\n",
        "    if word_embeddings:\n",
        "        return np.mean(word_embeddings, axis=0)\n",
        "    else:\n",
        "        return np.zeros(word2vec_model.vector_size)\n"
      ]
    },
    {
      "cell_type": "markdown",
      "metadata": {
        "id": "msgLmZGGqJ3D"
      },
      "source": [
        "## Dataset pre processing\n",
        "\n",
        "Il dataset ha solamente due colonne: 'text' e 'author' che indicano rispetivamente l'intera porzione di testo e l'autore dello stesso.\n",
        "'Text' contiene porzioni di testo dell'autore. La lunghezza di queste porzioni di testo è omogenea per ogni istanza: contiene 1000 parole."
      ]
    },
    {
      "cell_type": "code",
      "execution_count": null,
      "metadata": {
        "colab": {
          "base_uri": "https://localhost:8080/",
          "height": 206
        },
        "id": "y365pQH_nw1i",
        "outputId": "26324951-6cf2-48a2-e10d-68aebee3e530"
      },
      "outputs": [
        {
          "output_type": "execute_result",
          "data": {
            "text/plain": [
              "                                                text  author\n",
              "0  ou have time to listen i will give you the ent...       1\n",
              "1  wish for solitude he was twenty years of age a...       1\n",
              "2  and the skirt blew in perfect freedom about th...       1\n",
              "3  of san and the rows of shops opposite impresse...       1\n",
              "4  an hour s walk was as tiresome as three in a s...       1"
            ],
            "text/html": [
              "\n",
              "  <div id=\"df-68119bf9-6bf2-4dc4-a6aa-ee128685ad3b\" class=\"colab-df-container\">\n",
              "    <div>\n",
              "<style scoped>\n",
              "    .dataframe tbody tr th:only-of-type {\n",
              "        vertical-align: middle;\n",
              "    }\n",
              "\n",
              "    .dataframe tbody tr th {\n",
              "        vertical-align: top;\n",
              "    }\n",
              "\n",
              "    .dataframe thead th {\n",
              "        text-align: right;\n",
              "    }\n",
              "</style>\n",
              "<table border=\"1\" class=\"dataframe\">\n",
              "  <thead>\n",
              "    <tr style=\"text-align: right;\">\n",
              "      <th></th>\n",
              "      <th>text</th>\n",
              "      <th>author</th>\n",
              "    </tr>\n",
              "  </thead>\n",
              "  <tbody>\n",
              "    <tr>\n",
              "      <th>0</th>\n",
              "      <td>ou have time to listen i will give you the ent...</td>\n",
              "      <td>1</td>\n",
              "    </tr>\n",
              "    <tr>\n",
              "      <th>1</th>\n",
              "      <td>wish for solitude he was twenty years of age a...</td>\n",
              "      <td>1</td>\n",
              "    </tr>\n",
              "    <tr>\n",
              "      <th>2</th>\n",
              "      <td>and the skirt blew in perfect freedom about th...</td>\n",
              "      <td>1</td>\n",
              "    </tr>\n",
              "    <tr>\n",
              "      <th>3</th>\n",
              "      <td>of san and the rows of shops opposite impresse...</td>\n",
              "      <td>1</td>\n",
              "    </tr>\n",
              "    <tr>\n",
              "      <th>4</th>\n",
              "      <td>an hour s walk was as tiresome as three in a s...</td>\n",
              "      <td>1</td>\n",
              "    </tr>\n",
              "  </tbody>\n",
              "</table>\n",
              "</div>\n",
              "    <div class=\"colab-df-buttons\">\n",
              "\n",
              "  <div class=\"colab-df-container\">\n",
              "    <button class=\"colab-df-convert\" onclick=\"convertToInteractive('df-68119bf9-6bf2-4dc4-a6aa-ee128685ad3b')\"\n",
              "            title=\"Convert this dataframe to an interactive table.\"\n",
              "            style=\"display:none;\">\n",
              "\n",
              "  <svg xmlns=\"http://www.w3.org/2000/svg\" height=\"24px\" viewBox=\"0 -960 960 960\">\n",
              "    <path d=\"M120-120v-720h720v720H120Zm60-500h600v-160H180v160Zm220 220h160v-160H400v160Zm0 220h160v-160H400v160ZM180-400h160v-160H180v160Zm440 0h160v-160H620v160ZM180-180h160v-160H180v160Zm440 0h160v-160H620v160Z\"/>\n",
              "  </svg>\n",
              "    </button>\n",
              "\n",
              "  <style>\n",
              "    .colab-df-container {\n",
              "      display:flex;\n",
              "      gap: 12px;\n",
              "    }\n",
              "\n",
              "    .colab-df-convert {\n",
              "      background-color: #E8F0FE;\n",
              "      border: none;\n",
              "      border-radius: 50%;\n",
              "      cursor: pointer;\n",
              "      display: none;\n",
              "      fill: #1967D2;\n",
              "      height: 32px;\n",
              "      padding: 0 0 0 0;\n",
              "      width: 32px;\n",
              "    }\n",
              "\n",
              "    .colab-df-convert:hover {\n",
              "      background-color: #E2EBFA;\n",
              "      box-shadow: 0px 1px 2px rgba(60, 64, 67, 0.3), 0px 1px 3px 1px rgba(60, 64, 67, 0.15);\n",
              "      fill: #174EA6;\n",
              "    }\n",
              "\n",
              "    .colab-df-buttons div {\n",
              "      margin-bottom: 4px;\n",
              "    }\n",
              "\n",
              "    [theme=dark] .colab-df-convert {\n",
              "      background-color: #3B4455;\n",
              "      fill: #D2E3FC;\n",
              "    }\n",
              "\n",
              "    [theme=dark] .colab-df-convert:hover {\n",
              "      background-color: #434B5C;\n",
              "      box-shadow: 0px 1px 3px 1px rgba(0, 0, 0, 0.15);\n",
              "      filter: drop-shadow(0px 1px 2px rgba(0, 0, 0, 0.3));\n",
              "      fill: #FFFFFF;\n",
              "    }\n",
              "  </style>\n",
              "\n",
              "    <script>\n",
              "      const buttonEl =\n",
              "        document.querySelector('#df-68119bf9-6bf2-4dc4-a6aa-ee128685ad3b button.colab-df-convert');\n",
              "      buttonEl.style.display =\n",
              "        google.colab.kernel.accessAllowed ? 'block' : 'none';\n",
              "\n",
              "      async function convertToInteractive(key) {\n",
              "        const element = document.querySelector('#df-68119bf9-6bf2-4dc4-a6aa-ee128685ad3b');\n",
              "        const dataTable =\n",
              "          await google.colab.kernel.invokeFunction('convertToInteractive',\n",
              "                                                    [key], {});\n",
              "        if (!dataTable) return;\n",
              "\n",
              "        const docLinkHtml = 'Like what you see? Visit the ' +\n",
              "          '<a target=\"_blank\" href=https://colab.research.google.com/notebooks/data_table.ipynb>data table notebook</a>'\n",
              "          + ' to learn more about interactive tables.';\n",
              "        element.innerHTML = '';\n",
              "        dataTable['output_type'] = 'display_data';\n",
              "        await google.colab.output.renderOutput(dataTable, element);\n",
              "        const docLink = document.createElement('div');\n",
              "        docLink.innerHTML = docLinkHtml;\n",
              "        element.appendChild(docLink);\n",
              "      }\n",
              "    </script>\n",
              "  </div>\n",
              "\n",
              "\n",
              "<div id=\"df-98bf0143-2a56-4b26-bedb-7a16f5a09ce5\">\n",
              "  <button class=\"colab-df-quickchart\" onclick=\"quickchart('df-98bf0143-2a56-4b26-bedb-7a16f5a09ce5')\"\n",
              "            title=\"Suggest charts\"\n",
              "            style=\"display:none;\">\n",
              "\n",
              "<svg xmlns=\"http://www.w3.org/2000/svg\" height=\"24px\"viewBox=\"0 0 24 24\"\n",
              "     width=\"24px\">\n",
              "    <g>\n",
              "        <path d=\"M19 3H5c-1.1 0-2 .9-2 2v14c0 1.1.9 2 2 2h14c1.1 0 2-.9 2-2V5c0-1.1-.9-2-2-2zM9 17H7v-7h2v7zm4 0h-2V7h2v10zm4 0h-2v-4h2v4z\"/>\n",
              "    </g>\n",
              "</svg>\n",
              "  </button>\n",
              "\n",
              "<style>\n",
              "  .colab-df-quickchart {\n",
              "      --bg-color: #E8F0FE;\n",
              "      --fill-color: #1967D2;\n",
              "      --hover-bg-color: #E2EBFA;\n",
              "      --hover-fill-color: #174EA6;\n",
              "      --disabled-fill-color: #AAA;\n",
              "      --disabled-bg-color: #DDD;\n",
              "  }\n",
              "\n",
              "  [theme=dark] .colab-df-quickchart {\n",
              "      --bg-color: #3B4455;\n",
              "      --fill-color: #D2E3FC;\n",
              "      --hover-bg-color: #434B5C;\n",
              "      --hover-fill-color: #FFFFFF;\n",
              "      --disabled-bg-color: #3B4455;\n",
              "      --disabled-fill-color: #666;\n",
              "  }\n",
              "\n",
              "  .colab-df-quickchart {\n",
              "    background-color: var(--bg-color);\n",
              "    border: none;\n",
              "    border-radius: 50%;\n",
              "    cursor: pointer;\n",
              "    display: none;\n",
              "    fill: var(--fill-color);\n",
              "    height: 32px;\n",
              "    padding: 0;\n",
              "    width: 32px;\n",
              "  }\n",
              "\n",
              "  .colab-df-quickchart:hover {\n",
              "    background-color: var(--hover-bg-color);\n",
              "    box-shadow: 0 1px 2px rgba(60, 64, 67, 0.3), 0 1px 3px 1px rgba(60, 64, 67, 0.15);\n",
              "    fill: var(--button-hover-fill-color);\n",
              "  }\n",
              "\n",
              "  .colab-df-quickchart-complete:disabled,\n",
              "  .colab-df-quickchart-complete:disabled:hover {\n",
              "    background-color: var(--disabled-bg-color);\n",
              "    fill: var(--disabled-fill-color);\n",
              "    box-shadow: none;\n",
              "  }\n",
              "\n",
              "  .colab-df-spinner {\n",
              "    border: 2px solid var(--fill-color);\n",
              "    border-color: transparent;\n",
              "    border-bottom-color: var(--fill-color);\n",
              "    animation:\n",
              "      spin 1s steps(1) infinite;\n",
              "  }\n",
              "\n",
              "  @keyframes spin {\n",
              "    0% {\n",
              "      border-color: transparent;\n",
              "      border-bottom-color: var(--fill-color);\n",
              "      border-left-color: var(--fill-color);\n",
              "    }\n",
              "    20% {\n",
              "      border-color: transparent;\n",
              "      border-left-color: var(--fill-color);\n",
              "      border-top-color: var(--fill-color);\n",
              "    }\n",
              "    30% {\n",
              "      border-color: transparent;\n",
              "      border-left-color: var(--fill-color);\n",
              "      border-top-color: var(--fill-color);\n",
              "      border-right-color: var(--fill-color);\n",
              "    }\n",
              "    40% {\n",
              "      border-color: transparent;\n",
              "      border-right-color: var(--fill-color);\n",
              "      border-top-color: var(--fill-color);\n",
              "    }\n",
              "    60% {\n",
              "      border-color: transparent;\n",
              "      border-right-color: var(--fill-color);\n",
              "    }\n",
              "    80% {\n",
              "      border-color: transparent;\n",
              "      border-right-color: var(--fill-color);\n",
              "      border-bottom-color: var(--fill-color);\n",
              "    }\n",
              "    90% {\n",
              "      border-color: transparent;\n",
              "      border-bottom-color: var(--fill-color);\n",
              "    }\n",
              "  }\n",
              "</style>\n",
              "\n",
              "  <script>\n",
              "    async function quickchart(key) {\n",
              "      const quickchartButtonEl =\n",
              "        document.querySelector('#' + key + ' button');\n",
              "      quickchartButtonEl.disabled = true;  // To prevent multiple clicks.\n",
              "      quickchartButtonEl.classList.add('colab-df-spinner');\n",
              "      try {\n",
              "        const charts = await google.colab.kernel.invokeFunction(\n",
              "            'suggestCharts', [key], {});\n",
              "      } catch (error) {\n",
              "        console.error('Error during call to suggestCharts:', error);\n",
              "      }\n",
              "      quickchartButtonEl.classList.remove('colab-df-spinner');\n",
              "      quickchartButtonEl.classList.add('colab-df-quickchart-complete');\n",
              "    }\n",
              "    (() => {\n",
              "      let quickchartButtonEl =\n",
              "        document.querySelector('#df-98bf0143-2a56-4b26-bedb-7a16f5a09ce5 button');\n",
              "      quickchartButtonEl.style.display =\n",
              "        google.colab.kernel.accessAllowed ? 'block' : 'none';\n",
              "    })();\n",
              "  </script>\n",
              "</div>\n",
              "    </div>\n",
              "  </div>\n"
            ]
          },
          "metadata": {},
          "execution_count": 19
        }
      ],
      "source": [
        "\n",
        "# Load training dataset\n",
        "dataset = pd.read_csv(PROJECT_FOLDER+'Gungor_2018_VictorianAuthorAttribution_data-train.csv', encoding='latin1')\n",
        "dataset.head()\n",
        "\n"
      ]
    },
    {
      "cell_type": "markdown",
      "metadata": {
        "id": "A35pdlRGqcb9"
      },
      "source": [
        "### Gestire le \"class imbalances\"\n",
        "Come possiamo vedere dal grafico sottostante c'è uno sbilanciamento nel numero di istanze per ogni autore. Per esempio l'autore 8 ha quasi 7000 istanze associate, mentre autori come 27, 3 e 16 ne hanno solo qualche centinaio"
      ]
    },
    {
      "cell_type": "code",
      "execution_count": null,
      "metadata": {
        "colab": {
          "base_uri": "https://localhost:8080/",
          "height": 573
        },
        "id": "MRzF5HtXr-3u",
        "outputId": "3932d5cd-ca35-4fed-be9b-969e3dd77283"
      },
      "outputs": [
        {
          "output_type": "display_data",
          "data": {
            "text/plain": [
              "<Figure size 1200x600 with 1 Axes>"
            ],
            "image/png": "[encoded data removed]"
          },
          "metadata": {}
        }
      ],
      "source": [
        "# Conta occorrenze in ogni label\n",
        "label_counts = dataset['author'].value_counts()\n",
        "\n",
        "#print(dataset['author'].value_counts())\n",
        "\n",
        "# Plotting the distribution\n",
        "plt.figure(figsize=(12, 6))\n",
        "label_counts.plot(kind='bar', color='skyblue')\n",
        "plt.title('Distribution of Instances for Each Author')\n",
        "plt.xlabel('Author')\n",
        "plt.ylabel('Number of Instances')\n",
        "plt.xticks(rotation=45, ha='right')\n",
        "plt.show()"
      ]
    },
    {
      "cell_type": "markdown",
      "metadata": {
        "id": "t7VW-Tw_umTA"
      },
      "source": [
        "#### Come potremmo risolvere il problema\n",
        "Questo problema potrebbe essere mitigato usando le tecniche di \"undersampling\" e \"oversampling\". Specialmente se si registrano problemi ricorrenti nelle classi meno numerose (come ad esempio una bassa precision) oppure con le classi più numerose (tipicamente un'alta precisione e una bassa recall).\n",
        "Come vedremo in seguito questo non sarà necessario. Ma è comunque una strada da tenere a mente"
      ]
    },
    {
      "cell_type": "markdown",
      "metadata": {
        "id": "GbUzi9ES9son"
      },
      "source": [
        "\n",
        "### Text pre processing\n",
        "La pre processazione del testo viene fatta come segue:"
      ]
    },
    {
      "cell_type": "code",
      "execution_count": null,
      "metadata": {
        "id": "JM9KAlc490BY"
      },
      "outputs": [],
      "source": [
        "# Tries to load data from project folder, reprocess the data if no processed text pickle is found\n",
        "\n",
        "try:dataset['preprocessed_text'] = joblib.load(PROJECT_FOLDER+\"data/preprocessed_text.pkl\")\n",
        "except: # Apply preprocessing to each document, uncomment if you want to reapply the pre processing from scratch\n",
        "  print(\"except\")\n",
        "  dataset['preprocessed_text'] = dataset['text'].apply(preprocess_text)\n",
        "  print(\"dump\")\n",
        "  #uncomment if you want to dump the newly preprocessed data and OVERRIDE THE PREVIOUS\n",
        "  joblib.dump(dataset['preprocessed_text'],PROJECT_FOLDER+\"data/preprocessed_text.pkl\")"
      ]
    },
    {
      "cell_type": "markdown",
      "source": [
        "La funzione \"preprocess_text\" (che potete trovare nella sezione \"Utils\" di questo notebook) applica una tokenizzazione al testo:\n",
        "utilizziamo il tokenizzatore di nltk in Python, che riconosce parole, punteggiatura e caratteri speciali, creando così una sequenza di token. Questi token costituiscono l'unità di base per l'analisi dei testi letterari, consentendo una rappresentazione strutturata e comprensibile per l'elaborazione da parte dei nostri modelli di machine learning.\n",
        "Nel nostro caso abbiamo posto i token in lowercase, ed abbiamo eliminato caratteri non alfabetici, stop-words e punteggiatura.\n",
        "trattandosi di un dataset omogeneo in lingua inglese abbiamo usato il corpuS \"english\"."
      ],
      "metadata": {
        "id": "wZ_MO6Rd1-pY"
      }
    },
    {
      "cell_type": "code",
      "execution_count": null,
      "metadata": {
        "colab": {
          "base_uri": "https://localhost:8080/",
          "height": 206
        },
        "id": "RR9fli9yAMKw",
        "outputId": "eb613a0f-cab4-4e59-a2c2-4db5cd899ac1"
      },
      "outputs": [
        {
          "output_type": "execute_result",
          "data": {
            "text/plain": [
              "                                                text  author  \\\n",
              "0  ou have time to listen i will give you the ent...       1   \n",
              "1  wish for solitude he was twenty years of age a...       1   \n",
              "2  and the skirt blew in perfect freedom about th...       1   \n",
              "3  of san and the rows of shops opposite impresse...       1   \n",
              "4  an hour s walk was as tiresome as three in a s...       1   \n",
              "\n",
              "                                   preprocessed_text  \n",
              "0  [ou, time, listen, give, entire, story, said, ...  \n",
              "1  [wish, solitude, twenty, years, age, possessio...  \n",
              "2  [skirt, blew, perfect, freedom, upper, parts, ...  \n",
              "3  [san, rows, shops, opposite, impressed, upon, ...  \n",
              "4  [hour, walk, tiresome, three, sensible, englis...  "
            ],
            "text/html": [
              "\n",
              "  <div id=\"df-5895d279-cd75-429b-812a-3cf300886543\" class=\"colab-df-container\">\n",
              "    <div>\n",
              "<style scoped>\n",
              "    .dataframe tbody tr th:only-of-type {\n",
              "        vertical-align: middle;\n",
              "    }\n",
              "\n",
              "    .dataframe tbody tr th {\n",
              "        vertical-align: top;\n",
              "    }\n",
              "\n",
              "    .dataframe thead th {\n",
              "        text-align: right;\n",
              "    }\n",
              "</style>\n",
              "<table border=\"1\" class=\"dataframe\">\n",
              "  <thead>\n",
              "    <tr style=\"text-align: right;\">\n",
              "      <th></th>\n",
              "      <th>text</th>\n",
              "      <th>author</th>\n",
              "      <th>preprocessed_text</th>\n",
              "    </tr>\n",
              "  </thead>\n",
              "  <tbody>\n",
              "    <tr>\n",
              "      <th>0</th>\n",
              "      <td>ou have time to listen i will give you the ent...</td>\n",
              "      <td>1</td>\n",
              "      <td>[ou, time, listen, give, entire, story, said, ...</td>\n",
              "    </tr>\n",
              "    <tr>\n",
              "      <th>1</th>\n",
              "      <td>wish for solitude he was twenty years of age a...</td>\n",
              "      <td>1</td>\n",
              "      <td>[wish, solitude, twenty, years, age, possessio...</td>\n",
              "    </tr>\n",
              "    <tr>\n",
              "      <th>2</th>\n",
              "      <td>and the skirt blew in perfect freedom about th...</td>\n",
              "      <td>1</td>\n",
              "      <td>[skirt, blew, perfect, freedom, upper, parts, ...</td>\n",
              "    </tr>\n",
              "    <tr>\n",
              "      <th>3</th>\n",
              "      <td>of san and the rows of shops opposite impresse...</td>\n",
              "      <td>1</td>\n",
              "      <td>[san, rows, shops, opposite, impressed, upon, ...</td>\n",
              "    </tr>\n",
              "    <tr>\n",
              "      <th>4</th>\n",
              "      <td>an hour s walk was as tiresome as three in a s...</td>\n",
              "      <td>1</td>\n",
              "      <td>[hour, walk, tiresome, three, sensible, englis...</td>\n",
              "    </tr>\n",
              "  </tbody>\n",
              "</table>\n",
              "</div>\n",
              "    <div class=\"colab-df-buttons\">\n",
              "\n",
              "  <div class=\"colab-df-container\">\n",
              "    <button class=\"colab-df-convert\" onclick=\"convertToInteractive('df-5895d279-cd75-429b-812a-3cf300886543')\"\n",
              "            title=\"Convert this dataframe to an interactive table.\"\n",
              "            style=\"display:none;\">\n",
              "\n",
              "  <svg xmlns=\"http://www.w3.org/2000/svg\" height=\"24px\" viewBox=\"0 -960 960 960\">\n",
              "    <path d=\"M120-120v-720h720v720H120Zm60-500h600v-160H180v160Zm220 220h160v-160H400v160Zm0 220h160v-160H400v160ZM180-400h160v-160H180v160Zm440 0h160v-160H620v160ZM180-180h160v-160H180v160Zm440 0h160v-160H620v160Z\"/>\n",
              "  </svg>\n",
              "    </button>\n",
              "\n",
              "  <style>\n",
              "    .colab-df-container {\n",
              "      display:flex;\n",
              "      gap: 12px;\n",
              "    }\n",
              "\n",
              "    .colab-df-convert {\n",
              "      background-color: #E8F0FE;\n",
              "      border: none;\n",
              "      border-radius: 50%;\n",
              "      cursor: pointer;\n",
              "      display: none;\n",
              "      fill: #1967D2;\n",
              "      height: 32px;\n",
              "      padding: 0 0 0 0;\n",
              "      width: 32px;\n",
              "    }\n",
              "\n",
              "    .colab-df-convert:hover {\n",
              "      background-color: #E2EBFA;\n",
              "      box-shadow: 0px 1px 2px rgba(60, 64, 67, 0.3), 0px 1px 3px 1px rgba(60, 64, 67, 0.15);\n",
              "      fill: #174EA6;\n",
              "    }\n",
              "\n",
              "    .colab-df-buttons div {\n",
              "      margin-bottom: 4px;\n",
              "    }\n",
              "\n",
              "    [theme=dark] .colab-df-convert {\n",
              "      background-color: #3B4455;\n",
              "      fill: #D2E3FC;\n",
              "    }\n",
              "\n",
              "    [theme=dark] .colab-df-convert:hover {\n",
              "      background-color: #434B5C;\n",
              "      box-shadow: 0px 1px 3px 1px rgba(0, 0, 0, 0.15);\n",
              "      filter: drop-shadow(0px 1px 2px rgba(0, 0, 0, 0.3));\n",
              "      fill: #FFFFFF;\n",
              "    }\n",
              "  </style>\n",
              "\n",
              "    <script>\n",
              "      const buttonEl =\n",
              "        document.querySelector('#df-5895d279-cd75-429b-812a-3cf300886543 button.colab-df-convert');\n",
              "      buttonEl.style.display =\n",
              "        google.colab.kernel.accessAllowed ? 'block' : 'none';\n",
              "\n",
              "      async function convertToInteractive(key) {\n",
              "        const element = document.querySelector('#df-5895d279-cd75-429b-812a-3cf300886543');\n",
              "        const dataTable =\n",
              "          await google.colab.kernel.invokeFunction('convertToInteractive',\n",
              "                                                    [key], {});\n",
              "        if (!dataTable) return;\n",
              "\n",
              "        const docLinkHtml = 'Like what you see? Visit the ' +\n",
              "          '<a target=\"_blank\" href=https://colab.research.google.com/notebooks/data_table.ipynb>data table notebook</a>'\n",
              "          + ' to learn more about interactive tables.';\n",
              "        element.innerHTML = '';\n",
              "        dataTable['output_type'] = 'display_data';\n",
              "        await google.colab.output.renderOutput(dataTable, element);\n",
              "        const docLink = document.createElement('div');\n",
              "        docLink.innerHTML = docLinkHtml;\n",
              "        element.appendChild(docLink);\n",
              "      }\n",
              "    </script>\n",
              "  </div>\n",
              "\n",
              "\n",
              "<div id=\"df-e5eb8551-c80e-4d2c-8c7e-cb5d5dbdcf87\">\n",
              "  <button class=\"colab-df-quickchart\" onclick=\"quickchart('df-e5eb8551-c80e-4d2c-8c7e-cb5d5dbdcf87')\"\n",
              "            title=\"Suggest charts\"\n",
              "            style=\"display:none;\">\n",
              "\n",
              "<svg xmlns=\"http://www.w3.org/2000/svg\" height=\"24px\"viewBox=\"0 0 24 24\"\n",
              "     width=\"24px\">\n",
              "    <g>\n",
              "        <path d=\"M19 3H5c-1.1 0-2 .9-2 2v14c0 1.1.9 2 2 2h14c1.1 0 2-.9 2-2V5c0-1.1-.9-2-2-2zM9 17H7v-7h2v7zm4 0h-2V7h2v10zm4 0h-2v-4h2v4z\"/>\n",
              "    </g>\n",
              "</svg>\n",
              "  </button>\n",
              "\n",
              "<style>\n",
              "  .colab-df-quickchart {\n",
              "      --bg-color: #E8F0FE;\n",
              "      --fill-color: #1967D2;\n",
              "      --hover-bg-color: #E2EBFA;\n",
              "      --hover-fill-color: #174EA6;\n",
              "      --disabled-fill-color: #AAA;\n",
              "      --disabled-bg-color: #DDD;\n",
              "  }\n",
              "\n",
              "  [theme=dark] .colab-df-quickchart {\n",
              "      --bg-color: #3B4455;\n",
              "      --fill-color: #D2E3FC;\n",
              "      --hover-bg-color: #434B5C;\n",
              "      --hover-fill-color: #FFFFFF;\n",
              "      --disabled-bg-color: #3B4455;\n",
              "      --disabled-fill-color: #666;\n",
              "  }\n",
              "\n",
              "  .colab-df-quickchart {\n",
              "    background-color: var(--bg-color);\n",
              "    border: none;\n",
              "    border-radius: 50%;\n",
              "    cursor: pointer;\n",
              "    display: none;\n",
              "    fill: var(--fill-color);\n",
              "    height: 32px;\n",
              "    padding: 0;\n",
              "    width: 32px;\n",
              "  }\n",
              "\n",
              "  .colab-df-quickchart:hover {\n",
              "    background-color: var(--hover-bg-color);\n",
              "    box-shadow: 0 1px 2px rgba(60, 64, 67, 0.3), 0 1px 3px 1px rgba(60, 64, 67, 0.15);\n",
              "    fill: var(--button-hover-fill-color);\n",
              "  }\n",
              "\n",
              "  .colab-df-quickchart-complete:disabled,\n",
              "  .colab-df-quickchart-complete:disabled:hover {\n",
              "    background-color: var(--disabled-bg-color);\n",
              "    fill: var(--disabled-fill-color);\n",
              "    box-shadow: none;\n",
              "  }\n",
              "\n",
              "  .colab-df-spinner {\n",
              "    border: 2px solid var(--fill-color);\n",
              "    border-color: transparent;\n",
              "    border-bottom-color: var(--fill-color);\n",
              "    animation:\n",
              "      spin 1s steps(1) infinite;\n",
              "  }\n",
              "\n",
              "  @keyframes spin {\n",
              "    0% {\n",
              "      border-color: transparent;\n",
              "      border-bottom-color: var(--fill-color);\n",
              "      border-left-color: var(--fill-color);\n",
              "    }\n",
              "    20% {\n",
              "      border-color: transparent;\n",
              "      border-left-color: var(--fill-color);\n",
              "      border-top-color: var(--fill-color);\n",
              "    }\n",
              "    30% {\n",
              "      border-color: transparent;\n",
              "      border-left-color: var(--fill-color);\n",
              "      border-top-color: var(--fill-color);\n",
              "      border-right-color: var(--fill-color);\n",
              "    }\n",
              "    40% {\n",
              "      border-color: transparent;\n",
              "      border-right-color: var(--fill-color);\n",
              "      border-top-color: var(--fill-color);\n",
              "    }\n",
              "    60% {\n",
              "      border-color: transparent;\n",
              "      border-right-color: var(--fill-color);\n",
              "    }\n",
              "    80% {\n",
              "      border-color: transparent;\n",
              "      border-right-color: var(--fill-color);\n",
              "      border-bottom-color: var(--fill-color);\n",
              "    }\n",
              "    90% {\n",
              "      border-color: transparent;\n",
              "      border-bottom-color: var(--fill-color);\n",
              "    }\n",
              "  }\n",
              "</style>\n",
              "\n",
              "  <script>\n",
              "    async function quickchart(key) {\n",
              "      const quickchartButtonEl =\n",
              "        document.querySelector('#' + key + ' button');\n",
              "      quickchartButtonEl.disabled = true;  // To prevent multiple clicks.\n",
              "      quickchartButtonEl.classList.add('colab-df-spinner');\n",
              "      try {\n",
              "        const charts = await google.colab.kernel.invokeFunction(\n",
              "            'suggestCharts', [key], {});\n",
              "      } catch (error) {\n",
              "        console.error('Error during call to suggestCharts:', error);\n",
              "      }\n",
              "      quickchartButtonEl.classList.remove('colab-df-spinner');\n",
              "      quickchartButtonEl.classList.add('colab-df-quickchart-complete');\n",
              "    }\n",
              "    (() => {\n",
              "      let quickchartButtonEl =\n",
              "        document.querySelector('#df-e5eb8551-c80e-4d2c-8c7e-cb5d5dbdcf87 button');\n",
              "      quickchartButtonEl.style.display =\n",
              "        google.colab.kernel.accessAllowed ? 'block' : 'none';\n",
              "    })();\n",
              "  </script>\n",
              "</div>\n",
              "    </div>\n",
              "  </div>\n"
            ]
          },
          "metadata": {},
          "execution_count": 22
        }
      ],
      "source": [
        "dataset.head()"
      ]
    },
    {
      "cell_type": "markdown",
      "metadata": {
        "id": "-iqbMD9h-KL8"
      },
      "source": [
        "Sopra si può vedere il risultato della tokenizzazione.\n",
        "\n",
        "---\n",
        "\n"
      ]
    },
    {
      "cell_type": "markdown",
      "source": [
        "###Split Data"
      ],
      "metadata": {
        "id": "qAXo4Eqg37De"
      }
    },
    {
      "cell_type": "markdown",
      "source": [
        "Divido il dataset in tre split: Train, val e test.\n",
        "Questo tipo di split ci permette di valutare il modello su dati che non ha mai visto. Un ulteriore split ci permette di usare dati per valutare gli iperparametri, senza incorrere nel rischio di adattare gli iperparametri stessi ai dati su cui poi verrà testato definitivamente il modello.\n",
        "\n",
        "Ricapitolando. Train, val e test Verranno utilizzati rispettivamente per:\n",
        "1. Addestrare i modelli\n",
        "2. Valutare gli iperparametri del modello\n",
        "3. Testare la bontà del modello nella fase finale"
      ],
      "metadata": {
        "id": "DemFM0w84Do9"
      }
    },
    {
      "cell_type": "code",
      "execution_count": null,
      "metadata": {
        "id": "r0DX7FzFX7Fs"
      },
      "outputs": [],
      "source": [
        "from sklearn.model_selection import train_test_split\n",
        "\n",
        "# Split the data into training and temporary data (combined validation and test sets)\n",
        "X_train, X_temp, y_train, y_temp = train_test_split(dataset['preprocessed_text'], dataset['author'], test_size=0.3, random_state=42)\n",
        "X_val, X_test, y_val, y_test = train_test_split(X_temp, y_temp, test_size=0.5, random_state=42)\n",
        "\n"
      ]
    },
    {
      "cell_type": "markdown",
      "metadata": {
        "id": "HHCcWIPpt0e9"
      },
      "source": [
        "## Feature Extraction\n",
        "Adesso che abbiamo dato un'occhiata al dataset e lo abbiamo preprocessato, possiamo pensare alla fase di \"feature extraction\".\n",
        "Feature extraction è il processo di trasformare dati in un insieme di features numerici che possono essere usati per rappresentare e caratterizzare l'informazione contenuta nei dati.\n",
        "Nel contesto del machine learning, feature extraction è un passo cruciale per convertire dati complessi e spesso altamente dimensionali in un formato che sia addatto per addestare un modello.\n",
        "\n",
        "Proveremo alcune delle più usate tecniche di vettorizzazione e le testeremo usando il classificatore Naive Bayes per capire quali tra i possibili embeddings è il più adatto per questo task.\n",
        "\n",
        "Nel corso di questo progetto, ci siamo avvalsi di due diversi metodi di feature extraction per trasformare il testo in formati comprensibili per i modelli di apprendimento automatico: word 2 vec e TF-idf."
      ]
    },
    {
      "cell_type": "markdown",
      "metadata": {
        "id": "QsINkOow5uq8"
      },
      "source": [
        "### Word2Vec\n",
        "\n",
        "Word2Vec è un modello di rappresentazione semantica delle parole introdotto da Tomas Mikolov e il suo team presso Google nel 2013. L'obiettivo principale di Word2Vec è quello di catturare relazioni semantiche e sintattiche tra parole in un modo che preserva il significato delle parole all'interno di un contesto.\n",
        "\n",
        "Questo metodo rappresenta le parole in uno spazio vettoriale in modo che vocaboli simili siano collocati vicini tra loro. Word2Vec cattura il contesto e il significato semantico delle parole attraverso l'apprendimento di vettori densi, convertendole in vettori numerici che conservano informazioni sulle relazioni semantiche che sussistono tra loro.\n",
        "\n",
        "Word2Vec è considerato un modello che riesce, generalmente, a performare meglio di un approccio bag of words, ed il motivo per cui è il primo di questa lista è che purtroppo, le performance applicate a questo particolare task sono deludenti"
      ]
    },
    {
      "cell_type": "code",
      "execution_count": null,
      "metadata": {
        "id": "yn7fhznHCVdJ"
      },
      "outputs": [],
      "source": [
        "\n",
        "# Addestro Word2Vec\n",
        "try:word2vec_model=joblib.load(PROJECT_FOLDER+'embeddings_models/word2vec_model_100vecsize.pkl')\n",
        "except:\n",
        "  word2vec_model = Word2Vec(sentences=X_train, vector_size=100, window=5, min_count=1, workers=4)\n",
        "  # Dump the model\n",
        "  joblib.dump(word2vec_model,PROJECT_FOLDER+'embeddings_models/word2vec_model_100vecsize.pkl')\n",
        "\n",
        "\n",
        "# Genero gli embedding per ogni documento\n",
        "X_train_word2vec = [get_doc_embedding(tokens) for tokens in X_train]\n",
        "X_val_word2vec = [get_doc_embedding(tokens) for tokens in X_val]"
      ]
    },
    {
      "cell_type": "code",
      "execution_count": null,
      "metadata": {
        "colab": {
          "base_uri": "https://localhost:8080/"
        },
        "id": "TCwOJm_PgDl-",
        "outputId": "dcc03bc0-212d-48cf-a24d-0dae54e3d1fc"
      },
      "outputs": [
        {
          "output_type": "stream",
          "name": "stdout",
          "text": [
            "numero di documenti 8052 \n",
            "Dimensioni del vettore 100\n"
          ]
        }
      ],
      "source": [
        "print(\"numero di documenti\",len(X_val_word2vec),\"\\nDimensioni del vettore\",len(X_val_word2vec[0]))"
      ]
    },
    {
      "cell_type": "markdown",
      "metadata": {
        "id": "sWdAnFSrCXq1"
      },
      "source": [
        "In questo codice abbiamo addestrato Word2Vec per rappresentare il testo in vettori di size 100. Abbiamo esportato il modello (per evitare di doverlo addestrare tuttel le volte).\n",
        "Ora che abbiamo creato gli embedding con word2vec andiamo ad usare Logistic Regression per classificare il testo."
      ]
    },
    {
      "cell_type": "code",
      "execution_count": null,
      "metadata": {
        "colab": {
          "base_uri": "https://localhost:8080/"
        },
        "id": "ipdGzXceAiO1",
        "outputId": "1a69bb80-8873-4356-b8f0-7e64a49a85fc"
      },
      "outputs": [
        {
          "output_type": "stream",
          "name": "stdout",
          "text": [
            "\n",
            "Logistic Regression + Word2Vec Accuracy: 0.7878787878787878\n",
            "\n",
            "Classification Report (Word2Vec):\n",
            "              precision    recall  f1-score   support\n",
            "\n",
            "           1       0.79      0.85      0.82       135\n",
            "           2       0.50      0.30      0.37        57\n",
            "           3       0.95      0.49      0.64        39\n",
            "           4       0.67      0.59      0.63       230\n",
            "           6       0.76      0.45      0.57        62\n",
            "           8       0.81      0.88      0.84      1049\n",
            "           9       0.67      0.65      0.66       161\n",
            "          10       0.88      0.76      0.81       132\n",
            "          11       0.79      0.58      0.67        53\n",
            "          12       0.78      0.70      0.74        88\n",
            "          13       0.80      0.65      0.72        74\n",
            "          14       0.78      0.88      0.83       386\n",
            "          15       0.82      0.89      0.85       223\n",
            "          16       0.67      0.36      0.47        22\n",
            "          17       0.57      0.56      0.57       107\n",
            "          18       0.69      0.62      0.65       149\n",
            "          19       0.79      0.81      0.80       233\n",
            "          20       0.86      0.86      0.86        76\n",
            "          21       0.84      0.86      0.85       327\n",
            "          22       0.87      0.69      0.77        84\n",
            "          23       0.60      0.60      0.60        70\n",
            "          24       0.63      0.59      0.61        41\n",
            "          25       0.64      0.63      0.63       173\n",
            "          26       0.97      0.99      0.98       669\n",
            "          27       0.74      0.57      0.64        51\n",
            "          28       0.86      0.79      0.82       135\n",
            "          29       0.78      0.65      0.71       106\n",
            "          30       0.72      0.85      0.78       144\n",
            "          32       0.80      0.78      0.79       106\n",
            "          33       0.84      0.89      0.86       247\n",
            "          34       0.88      0.54      0.67        79\n",
            "          35       0.54      0.51      0.52        81\n",
            "          36       0.88      0.79      0.84        96\n",
            "          37       0.66      0.76      0.71       347\n",
            "          38       0.66      0.65      0.65       176\n",
            "          39       0.86      0.87      0.87       331\n",
            "          40       0.78      0.85      0.82        60\n",
            "          41       0.77      0.76      0.76       123\n",
            "          42       0.94      0.99      0.96       166\n",
            "          43       0.84      0.83      0.83       209\n",
            "          44       0.73      0.61      0.67        67\n",
            "          45       0.67      0.71      0.69       389\n",
            "          46       0.71      0.65      0.68        85\n",
            "          48       0.84      0.83      0.83       266\n",
            "          50       0.77      0.66      0.71       148\n",
            "\n",
            "    accuracy                           0.79      8052\n",
            "   macro avg       0.76      0.71      0.73      8052\n",
            "weighted avg       0.79      0.79      0.78      8052\n",
            "\n"
          ]
        }
      ],
      "source": [
        "\n",
        "# Train Word2Vec\n",
        "try:word2vec_model=joblib.load(PROJECT_FOLDER+'embeddings_models/word2vec_model_100vecsize.pkl')\n",
        "except:\n",
        "  word2vec_model = Word2Vec(sentences=X_train, vector_size=100, window=5, min_count=1, workers=4)\n",
        "  joblib.dump(word2vec_model,PROJECT_FOLDER+'embeddings_models/word2vec_model_100vecsize.pkl')\n",
        "\n",
        "# Train Logistic Regression classifier on Word2Vec vectors\n",
        "try:logistic_regression_classifier_word2vec=joblib.load(PROJECT_FOLDER+'classifiers/logistic_regression_classifier_word2vec100.pkl')\n",
        "except:\n",
        "  logistic_regression_classifier_word2vec = LogisticRegression(max_iter=1000)\n",
        "  logistic_regression_classifier_word2vec.fit(X_train_word2vec, y_train)\n",
        "  joblib.dump(logistic_regression_classifier_word2vec,PROJECT_FOLDER+'classifiers/logistic_regression_classifier_word2vec100.pkl')\n",
        "\n",
        "# Predictions on the validation set using Word2Vec\n",
        "val_predictions_word2vec = logistic_regression_classifier_word2vec.predict(X_val_word2vec)\n",
        "\n",
        "# Evaluate the Word2Vec model with Logistic Regression\n",
        "accuracy_word2vec = accuracy_score(y_val, val_predictions_word2vec)\n",
        "print(\"\\nLogistic Regression + Word2Vec Accuracy:\", accuracy_word2vec)\n",
        "print(\"\\nClassification Report (Word2Vec):\")\n",
        "print(classification_report(y_val, val_predictions_word2vec))"
      ]
    },
    {
      "cell_type": "markdown",
      "source": [
        "Questo risultato è già abbastanza soddsfacente, ma possiamo fare di meglio. Innanzitutto possiamo aumentare il numero di feature (che in questo momento è 100) per cercare di catturare pattern semantici più significativi."
      ],
      "metadata": {
        "id": "FM0LuBhm9hU6"
      }
    },
    {
      "cell_type": "markdown",
      "metadata": {
        "id": "0dboBiR5Rcdg"
      },
      "source": [
        "#### Word2Vec con più componenti"
      ]
    },
    {
      "cell_type": "markdown",
      "source": [
        "In questo caso aabiamo addestrato Word2Vec per rappresentare i token con vettori di 500 features.\n"
      ],
      "metadata": {
        "id": "9EGnEIjH9-L0"
      }
    },
    {
      "cell_type": "code",
      "execution_count": null,
      "metadata": {
        "colab": {
          "base_uri": "https://localhost:8080/"
        },
        "id": "lzH5UcEHRhmf",
        "outputId": "121de80a-8fed-4170-a300-0ae18c59a358"
      },
      "outputs": [
        {
          "output_type": "stream",
          "name": "stdout",
          "text": [
            "\n",
            "Logistic Regression + Word2Vec Accuracy: 0.7878787878787878\n",
            "\n",
            "Classification Report (Word2Vec):\n",
            "              precision    recall  f1-score   support\n",
            "\n",
            "           1       0.79      0.85      0.82       135\n",
            "           2       0.50      0.30      0.37        57\n",
            "           3       0.95      0.49      0.64        39\n",
            "           4       0.67      0.59      0.63       230\n",
            "           6       0.76      0.45      0.57        62\n",
            "           8       0.81      0.88      0.84      1049\n",
            "           9       0.67      0.65      0.66       161\n",
            "          10       0.88      0.76      0.81       132\n",
            "          11       0.79      0.58      0.67        53\n",
            "          12       0.78      0.70      0.74        88\n",
            "          13       0.80      0.65      0.72        74\n",
            "          14       0.78      0.88      0.83       386\n",
            "          15       0.82      0.89      0.85       223\n",
            "          16       0.67      0.36      0.47        22\n",
            "          17       0.57      0.56      0.57       107\n",
            "          18       0.69      0.62      0.65       149\n",
            "          19       0.79      0.81      0.80       233\n",
            "          20       0.86      0.86      0.86        76\n",
            "          21       0.84      0.86      0.85       327\n",
            "          22       0.87      0.69      0.77        84\n",
            "          23       0.60      0.60      0.60        70\n",
            "          24       0.63      0.59      0.61        41\n",
            "          25       0.64      0.63      0.63       173\n",
            "          26       0.97      0.99      0.98       669\n",
            "          27       0.74      0.57      0.64        51\n",
            "          28       0.86      0.79      0.82       135\n",
            "          29       0.78      0.65      0.71       106\n",
            "          30       0.72      0.85      0.78       144\n",
            "          32       0.80      0.78      0.79       106\n",
            "          33       0.84      0.89      0.86       247\n",
            "          34       0.88      0.54      0.67        79\n",
            "          35       0.54      0.51      0.52        81\n",
            "          36       0.88      0.79      0.84        96\n",
            "          37       0.66      0.76      0.71       347\n",
            "          38       0.66      0.65      0.65       176\n",
            "          39       0.86      0.87      0.87       331\n",
            "          40       0.78      0.85      0.82        60\n",
            "          41       0.77      0.76      0.76       123\n",
            "          42       0.94      0.99      0.96       166\n",
            "          43       0.84      0.83      0.83       209\n",
            "          44       0.73      0.61      0.67        67\n",
            "          45       0.67      0.71      0.69       389\n",
            "          46       0.71      0.65      0.68        85\n",
            "          48       0.84      0.83      0.83       266\n",
            "          50       0.77      0.66      0.71       148\n",
            "\n",
            "    accuracy                           0.79      8052\n",
            "   macro avg       0.76      0.71      0.73      8052\n",
            "weighted avg       0.79      0.79      0.78      8052\n",
            "\n"
          ]
        }
      ],
      "source": [
        "\n",
        "# Train Word2Vec\n",
        "try:word2vec_model=joblib.load(PROJECT_FOLDER+'embeddings_models/word2vec_model_500vecsize.pkl')\n",
        "except:\n",
        "  word2vec_model = Word2Vec(sentences=X_train, vector_size=500, window=5, min_count=1, workers=4)\n",
        "  joblib.dump(word2vec_model,PROJECT_FOLDER+'embeddings_models/word2vec_model_500vecsize.pkl')\n",
        "\n",
        "# Train Logistic Regression classifier on Word2Vec vectors\n",
        "try:logistic_regression_classifier_word2vec=joblib.load(PROJECT_FOLDER+'classifiers/logistic_regression_classifier_word2vec500.pkl')\n",
        "except:\n",
        "  logistic_regression_classifier_word2vec = LogisticRegression(max_iter=1000)\n",
        "  logistic_regression_classifier_word2vec.fit(X_train_word2vec, y_train)\n",
        "  joblib.dump(logistic_regression_classifier_word2vec,PROJECT_FOLDER+'classifiers/logistic_regression_classifier_word2vec500.pkl')\n",
        "\n",
        "# Predictions on the validation set using Word2Vec\n",
        "val_predictions_word2vec = logistic_regression_classifier_word2vec.predict(X_val_word2vec)\n",
        "\n",
        "# Evaluate the Word2Vec model with Logistic Regression\n",
        "accuracy_word2vec = accuracy_score(y_val, val_predictions_word2vec)\n",
        "print(\"\\nLogistic Regression + Word2Vec Accuracy:\", accuracy_word2vec)\n",
        "print(\"\\nClassification Report (Word2Vec):\")\n",
        "print(classification_report(y_val, val_predictions_word2vec))"
      ]
    },
    {
      "cell_type": "markdown",
      "source": [
        "Come possiamo notare, le prestazioni sono esattamente le stesse.\n",
        "Questo può essere spiegato con diverse ipotesi:\n",
        "1. Ridondanza delle features: Potrebbe esserci una notevole ridondanza tra le features aggiunte al superare la soglia di 100 features. In altre parole, le features aggiuntive potrebbero non aggiungere informazioni significative al modello.\n",
        "2. Modello troppo complesso: Potrebbe essere che il modello utilizzato sia troppo complesso per il problema o che sia soggetto a overfitting, rendendo le differenze tra 100 e 500 features trascurabili.\n",
        "3. Configurazione del modello: La configurazione specifica del modello o degli iperparametri potrebbe non essere sensibile alle differenze tra 100 e 500 features.\n",
        "\n",
        "In ogni caso non ho esplorato queste ipotesi, principalmente perchè il modello TF-idf performa in maniera molto migliore per questo particolare task come possiamo vedere nella sezione successiva."
      ],
      "metadata": {
        "id": "Jg0-DsvcAuc9"
      }
    },
    {
      "cell_type": "markdown",
      "metadata": {
        "id": "cDhvOAg2KpuK"
      },
      "source": [
        "### TF-idf\n",
        "\n",
        "TF-IDF, che sta per Term Frequency-Inverse Document Frequency, è una tecnica di pesatura utilizzata nell'elaborazione del linguaggio naturale e nell'information retrieval. In breve, misura l'importanza di una parola in un documento rispetto a una collezione più ampia di documenti. L'idea di base è che una parola è più significativa per un documento se appare frequentemente in quel documento, ma è meno significativa se appare in molti documenti.\n",
        "\n",
        "La formula di TF-IDF è composta da:\n",
        "il Term Frequency (TF) e l'Inverse Document Frequency (IDF). La formula completa è data da:\n",
        "$$\n",
        " \\text{TF-IDF}(t, d, D) = \\text{TF}(t, d) \\times \\text{IDF}(t, D)\n",
        "$$\n",
        "Dove:\n",
        "\n",
        "- \\( t \\) è il termine (parola) di interesse.\n",
        "- \\( d \\) è il documento in cui stiamo calcolando il TF-IDF.\n",
        "- \\( D \\) è l'insieme di tutti i documenti nel corpus.\n",
        "\n",
        "La Term Frequency (TF) è calcolata come:\n",
        "\n",
        "$ \\text{TF}(t, d) = \\frac{\\text{Numero di volte che il termine } t \\text{ appare in } d}{\\text{Numero totale di termini in } d} $\n",
        "\n",
        "L'Inverse Document Frequency (IDF) è calcolato come:\n",
        "\n",
        "$ \\text{IDF}(t, D) = \\log\\left(\\frac{\\text{Numero totale di documenti in } D}{\\text{Numero di documenti in cui il termine } t \\text{ appare} + 1}\\right) + 1 $\n",
        "\n",
        "Il \"+1\" nel denominatore del termine IDF evita il problema della divisione per zero quando un termine compare in tutti i documenti.\n",
        "\n",
        "Quindi, moltiplicando TF per IDF otteniamo il punteggio finale del TF-IDF per un dato termine in un documento specifico.\n"
      ]
    },
    {
      "cell_type": "code",
      "execution_count": null,
      "metadata": {
        "id": "-h1J962nvJBa"
      },
      "outputs": [],
      "source": [
        "\n",
        "X_train=[' '.join(tokens) for tokens in X_train]\n",
        "X_val =[' '.join(tokens) for tokens in X_val]\n",
        "X_test =[' '.join(tokens) for tokens in X_test]\n",
        "\n",
        "# TF-IDF Vectorization\n",
        "tfidf_vectorizer = TfidfVectorizer(max_features=5000, stop_words='english')\n",
        "X_train_tfidf = tfidf_vectorizer.fit_transform(X_train)\n",
        "X_val_tfidf = tfidf_vectorizer.transform(X_val)\n",
        "X_test_tfidf = tfidf_vectorizer.transform(X_test)"
      ]
    },
    {
      "cell_type": "markdown",
      "metadata": {
        "id": "PCsjuDVaM366"
      },
      "source": [
        "Adesso che abbiamo vettorizzato possiamo guardare ai risultati di logistic regression:"
      ]
    },
    {
      "cell_type": "code",
      "execution_count": null,
      "metadata": {
        "colab": {
          "base_uri": "https://localhost:8080/"
        },
        "id": "1FmmPqCwM1Tb",
        "outputId": "bdaeb8a6-d12c-4b31-c599-837642370f0b"
      },
      "outputs": [
        {
          "output_type": "stream",
          "name": "stdout",
          "text": [
            "Logistic Regression + TF-IDF Accuracy: 0.9298310978638847\n",
            "\n",
            "Classification Report (TF-IDF):\n",
            "              precision    recall  f1-score   support\n",
            "\n",
            "           1       0.96      0.95      0.95       135\n",
            "           2       1.00      0.56      0.72        57\n",
            "           3       1.00      0.69      0.82        39\n",
            "           4       0.88      0.81      0.85       230\n",
            "           6       0.96      0.69      0.80        62\n",
            "           8       0.88      0.97      0.93      1049\n",
            "           9       0.96      0.96      0.96       161\n",
            "          10       0.98      0.92      0.95       132\n",
            "          11       0.93      0.74      0.82        53\n",
            "          12       0.94      0.94      0.94        88\n",
            "          13       1.00      0.78      0.88        74\n",
            "          14       0.95      0.99      0.97       386\n",
            "          15       0.96      0.97      0.97       223\n",
            "          16       0.90      0.41      0.56        22\n",
            "          17       0.95      0.82      0.88       107\n",
            "          18       0.92      0.96      0.94       149\n",
            "          19       0.94      0.96      0.95       233\n",
            "          20       0.95      0.96      0.95        76\n",
            "          21       0.92      0.96      0.94       327\n",
            "          22       1.00      0.83      0.91        84\n",
            "          23       0.93      0.71      0.81        70\n",
            "          24       0.89      0.76      0.82        41\n",
            "          25       0.95      0.95      0.95       173\n",
            "          26       0.96      1.00      0.98       669\n",
            "          27       0.97      0.71      0.82        51\n",
            "          28       0.94      0.88      0.91       135\n",
            "          29       0.99      0.91      0.95       106\n",
            "          30       0.87      0.96      0.91       144\n",
            "          32       0.94      0.95      0.95       106\n",
            "          33       0.92      0.98      0.95       247\n",
            "          34       0.98      0.73      0.84        79\n",
            "          35       0.99      0.84      0.91        81\n",
            "          36       0.99      0.91      0.95        96\n",
            "          37       0.81      0.95      0.87       347\n",
            "          38       0.94      0.94      0.94       176\n",
            "          39       0.95      0.95      0.95       331\n",
            "          40       0.95      0.95      0.95        60\n",
            "          41       0.91      0.86      0.89       123\n",
            "          42       0.98      0.99      0.99       166\n",
            "          43       0.95      0.97      0.96       209\n",
            "          44       1.00      0.79      0.88        67\n",
            "          45       0.93      0.95      0.94       389\n",
            "          46       0.99      0.89      0.94        85\n",
            "          48       0.91      0.94      0.93       266\n",
            "          50       0.99      0.89      0.94       148\n",
            "\n",
            "    accuracy                           0.93      8052\n",
            "   macro avg       0.95      0.87      0.90      8052\n",
            "weighted avg       0.93      0.93      0.93      8052\n",
            "\n"
          ]
        }
      ],
      "source": [
        "try:logistic_regression_classifier_tfidf = joblib.load(PROJECT_FOLDER+\"classifiers/logistic_regression_classifier_tfidf.pkl\")\n",
        "except:\n",
        "  # Train Logistic Regression classifier on TF-IDF vectors\n",
        "  logistic_regression_classifier_tfidf = LogisticRegression(max_iter=1000)\n",
        "  logistic_regression_classifier_tfidf.fit(X_train_tfidf, y_train)\n",
        "  joblib.dump(logistic_regression_classifier_tfidf,PROJECT_FOLDER+\"classifiers/logistic_regression_classifier_tfidf.pkl\")\n",
        "\n",
        "# Predictions on the validation set using TF-IDF\n",
        "val_predictions_tfidf = logistic_regression_classifier_tfidf.predict(X_val_tfidf)\n",
        "\n",
        "# Evaluate the TF-IDF model with Logistic Regression\n",
        "accuracy_tfidf = accuracy_score(y_val, val_predictions_tfidf)\n",
        "print(\"Logistic Regression + TF-IDF Accuracy:\", accuracy_tfidf)\n",
        "print(\"\\nClassification Report (TF-IDF):\")\n",
        "print(classification_report(y_val, val_predictions_tfidf))"
      ]
    },
    {
      "cell_type": "code",
      "execution_count": null,
      "metadata": {
        "colab": {
          "base_uri": "https://localhost:8080/"
        },
        "id": "6WEwOl1Ve-sT",
        "outputId": "69a9900d-af5a-4a48-86d3-20cce9c272e8"
      },
      "outputs": [
        {
          "output_type": "stream",
          "name": "stdout",
          "text": [
            "(8052, 5000)\n"
          ]
        }
      ],
      "source": [
        "print(X_val_tfidf.shape)"
      ]
    },
    {
      "cell_type": "markdown",
      "metadata": {
        "id": "iS7d7XCtdjU0"
      },
      "source": [
        "Come si può vedere, c'è un netto miglioramento della performance usando TF-IDF per questo task\n",
        "\n",
        "Questo risultato non è del tutto sorprendente per vari motivi:\n",
        "in primo luogo c'è una grossa differenza in dimensionalità. In secondo luogo, per certi versi, un approccio strettamente legato alla semantica, come word2Vec può rivelarsi meno efficace in contesti in cui la semantica del testo non è così rilevante come la vera e propria presenza di una o più parole.\n",
        "Ad esempio, è molto più rilevante che il nome di un personaggio appaia o meno in un testo e non tanto il contesto semantico in cui quel nome appare.\n",
        "\n",
        "Proviamo a confermare questa ipotesi vedendo quali sono i termini più informativi:"
      ]
    },
    {
      "cell_type": "code",
      "source": [
        "import numpy as np\n",
        "\n",
        "# Estrarre i coefficienti del modello\n",
        "coefficients = logistic_regression_classifier_tfidf.coef_[0]\n",
        "\n",
        "# Mappare i coefficienti alle parole corrispondenti nel TF-IDF\n",
        "feature_names = tfidf_vectorizer.get_feature_names_out()\n",
        "coefficients_mapping = dict(zip(feature_names, coefficients))\n",
        "\n",
        "# Ordinare i coefficienti per valore assoluto in ordine decrescente\n",
        "sorted_coefficients = sorted(coefficients_mapping.items(), key=lambda x: abs(x[1]), reverse=True)\n",
        "\n",
        "# Ottenere le probabilità predette per ogni classe\n",
        "predicted_probabilities = logistic_regression_classifier_tfidf.predict_proba(X_val_tfidf)\n",
        "\n",
        "# Trovare la classe predetta con la probabilità più alta per ciascuna istanza\n",
        "predicted_classes = np.argmax(predicted_probabilities, axis=1)\n",
        "\n",
        "# Creare un dizionario per tenere traccia del termine più informativo per ogni classe\n",
        "most_informative_terms = {i: {'term': None, 'coefficient': None} for i in range(logistic_regression_classifier_tfidf.coef_.shape[0])}\n",
        "\n",
        "# Iterare sui coefficienti e assegnare il termine più informativo per ciascuna classe\n",
        "for term, coefficient in sorted_coefficients:\n",
        "    for i in range(logistic_regression_classifier_tfidf.coef_.shape[0]):\n",
        "        if most_informative_terms[i]['term'] is None and most_informative_terms[i]['coefficient'] is None:\n",
        "            most_informative_terms[i]['term'] = term\n",
        "            most_informative_terms[i]['coefficient'] = coefficient\n",
        "            break\n",
        "\n",
        "# Stampare i termine più informativi per ogni classe\n",
        "for i in range(logistic_regression_classifier_tfidf.coef_.shape[0]):\n",
        "    print(f\"Classe {i}: Termine più informativo: {most_informative_terms[i]['term']}, Coefficiente: {most_informative_terms[i]['coefficient']}\")\n"
      ],
      "metadata": {
        "colab": {
          "base_uri": "https://localhost:8080/"
        },
        "id": "ecRyIrczCwXo",
        "outputId": "3cb70375-6dad-4957-90b6-984addf79513"
      },
      "execution_count": null,
      "outputs": [
        {
          "output_type": "stream",
          "name": "stdout",
          "text": [
            "Classe 0: Termine più informativo: girl, Coefficiente: 3.9859450840460253\n",
            "Classe 1: Termine più informativo: young, Coefficiente: 3.476601627959732\n",
            "Classe 2: Termine più informativo: sugar, Coefficiente: 3.4435779710014125\n",
            "Classe 3: Termine più informativo: marriage, Coefficiente: 3.3028926610284848\n",
            "Classe 4: Termine più informativo: responded, Coefficiente: 3.1456814386364753\n",
            "Classe 5: Termine più informativo: husband, Coefficiente: 3.1299564574844645\n",
            "Classe 6: Termine più informativo: gray, Coefficiente: 3.1185592812587064\n",
            "Classe 7: Termine più informativo: mr, Coefficiente: 3.067063695698943\n",
            "Classe 8: Termine più informativo: asked, Coefficiente: 2.937157468457657\n",
            "Classe 9: Termine più informativo: reply, Coefficiente: 2.9262208017186166\n",
            "Classe 10: Termine più informativo: princess, Coefficiente: 2.6929451063467185\n",
            "Classe 11: Termine più informativo: hotel, Coefficiente: 2.6827401754444344\n",
            "Classe 12: Termine più informativo: love, Coefficiente: 2.6407329995431486\n",
            "Classe 13: Termine più informativo: fa, Coefficiente: 2.6144393661183147\n",
            "Classe 14: Termine più informativo: replied, Coefficiente: 2.6005841826058638\n",
            "Classe 15: Termine più informativo: agent, Coefficiente: 2.5069195372890927\n",
            "Classe 16: Termine più informativo: bond, Coefficiente: 2.4627963826123223\n",
            "Classe 17: Termine più informativo: time, Coefficiente: 2.4001614616991067\n",
            "Classe 18: Termine più informativo: wife, Coefficiente: 2.222364510204749\n",
            "Classe 19: Termine più informativo: entire, Coefficiente: 2.1879982323700835\n",
            "Classe 20: Termine più informativo: things, Coefficiente: 2.162797455758632\n",
            "Classe 21: Termine più informativo: wanted, Coefficiente: 2.1465651385532087\n",
            "Classe 22: Termine più informativo: miss, Coefficiente: 2.13723342571107\n",
            "Classe 23: Termine più informativo: child, Coefficiente: 2.1003255287937086\n",
            "Classe 24: Termine più informativo: took, Coefficiente: 2.0462347207002596\n",
            "Classe 25: Termine più informativo: round, Coefficiente: -1.942210790951343\n",
            "Classe 26: Termine più informativo: came, Coefficiente: 1.921559311448089\n",
            "Classe 27: Termine più informativo: companion, Coefficiente: 1.8907623681110493\n",
            "Classe 28: Termine più informativo: tell, Coefficiente: 1.872820272863944\n",
            "Classe 29: Termine più informativo: statement, Coefficiente: 1.8395637324855625\n",
            "Classe 30: Termine più informativo: dollars, Coefficiente: 1.829562468810614\n",
            "Classe 31: Termine più informativo: old, Coefficiente: -1.8085880180824931\n",
            "Classe 32: Termine più informativo: grew, Coefficiente: 1.7917785902909305\n",
            "Classe 33: Termine più informativo: matter, Coefficiente: 1.7796859344715716\n",
            "Classe 34: Termine più informativo: answered, Coefficiente: 1.7780976228229628\n",
            "Classe 35: Termine più informativo: soon, Coefficiente: 1.7663749607452157\n",
            "Classe 36: Termine più informativo: poor, Coefficiente: -1.7646316227468999\n",
            "Classe 37: Termine più informativo: mills, Coefficiente: 1.7355188148495766\n",
            "Classe 38: Termine più informativo: seventy, Coefficiente: 1.7307150500976618\n",
            "Classe 39: Termine più informativo: exclaimed, Coefficiente: 1.7277334859895026\n",
            "Classe 40: Termine più informativo: sir, Coefficiente: -1.7265940174469252\n",
            "Classe 41: Termine più informativo: ought, Coefficiente: 1.6671086783281677\n",
            "Classe 42: Termine più informativo: dear, Coefficiente: -1.652214558064154\n",
            "Classe 43: Termine più informativo: slowly, Coefficiente: 1.6490864561519485\n",
            "Classe 44: Termine più informativo: met, Coefficiente: 1.6453471331919918\n"
          ]
        }
      ]
    },
    {
      "cell_type": "markdown",
      "source": [
        "Questi sono i termini che hanno una maggiore informatività per ogni classe.\n",
        " In modo intuitivo, si può considerare il coefficiente come indicatore di quanto il termine influenzi la probabilità di appartenenza a una classe rispetto alle altre. Un coefficiente positivo suggerisce che un aumento nel conteggio di quel termine è associato a un aumento nelle probabilità di appartenenza a una determinata classe, mentre un coefficiente negativo suggerisce l'opposto.\n",
        "\n",
        "Quindi, se si ha un termine con un coefficiente positivo elevato, significa che la presenza di quel termine è fortemente associata alla classe positiva (o all'autore specifico in questo caso), mentre un termine con un coefficiente negativo elevato indica una forte associazione con la classe negativa."
      ],
      "metadata": {
        "id": "GYS9EGA3RpWt"
      }
    },
    {
      "cell_type": "markdown",
      "metadata": {
        "id": "3JsgNzwKdlCt"
      },
      "source": [
        "#### Dimensionality reduction\n",
        "\n",
        "Il prossimo step sarà quello di concatenare tf-idf con altri metodi di feature selection. Per questo è necessario ridurre almeno in parte la dimensione dei vettori (che finora è di 5000 features!)"
      ]
    },
    {
      "cell_type": "code",
      "execution_count": null,
      "metadata": {
        "colab": {
          "base_uri": "https://localhost:8080/"
        },
        "id": "iUKu639ChGLU",
        "outputId": "7b69f796-fd72-4395-f1b8-47c2a71ae06c"
      },
      "outputs": [
        {
          "output_type": "stream",
          "name": "stdout",
          "text": [
            "Logistic Regression + PCA Accuracy: 0.6810730253353204\n",
            "\n",
            "Classification Report (PCA):\n",
            "              precision    recall  f1-score   support\n",
            "\n",
            "           1       0.72      0.72      0.72       135\n",
            "           2       1.00      0.07      0.13        57\n",
            "           3       0.83      0.13      0.22        39\n",
            "           4       0.52      0.45      0.48       230\n",
            "           6       0.78      0.29      0.42        62\n",
            "           8       0.61      0.88      0.72      1049\n",
            "           9       0.62      0.46      0.53       161\n",
            "          10       0.85      0.51      0.64       132\n",
            "          11       0.73      0.45      0.56        53\n",
            "          12       0.82      0.56      0.66        88\n",
            "          13       0.78      0.34      0.47        74\n",
            "          14       0.69      0.74      0.71       386\n",
            "          15       0.66      0.66      0.66       223\n",
            "          16       0.00      0.00      0.00        22\n",
            "          17       0.65      0.42      0.51       107\n",
            "          18       0.54      0.53      0.53       149\n",
            "          19       0.66      0.79      0.71       233\n",
            "          20       0.77      0.66      0.71        76\n",
            "          21       0.69      0.80      0.74       327\n",
            "          22       0.88      0.50      0.64        84\n",
            "          23       0.52      0.20      0.29        70\n",
            "          24       0.61      0.27      0.37        41\n",
            "          25       0.60      0.47      0.53       173\n",
            "          26       0.93      0.99      0.96       669\n",
            "          27       1.00      0.29      0.45        51\n",
            "          28       0.74      0.68      0.71       135\n",
            "          29       0.85      0.52      0.64       106\n",
            "          30       0.69      0.73      0.71       144\n",
            "          32       0.82      0.55      0.66       106\n",
            "          33       0.61      0.77      0.68       247\n",
            "          34       0.84      0.53      0.65        79\n",
            "          35       0.27      0.15      0.19        81\n",
            "          36       0.89      0.75      0.81        96\n",
            "          37       0.55      0.81      0.66       347\n",
            "          38       0.56      0.30      0.39       176\n",
            "          39       0.68      0.81      0.74       331\n",
            "          40       0.65      0.37      0.47        60\n",
            "          41       0.69      0.57      0.62       123\n",
            "          42       0.91      0.96      0.94       166\n",
            "          43       0.69      0.74      0.71       209\n",
            "          44       1.00      0.10      0.19        67\n",
            "          45       0.60      0.72      0.66       389\n",
            "          46       0.82      0.32      0.46        85\n",
            "          48       0.70      0.73      0.71       266\n",
            "          50       0.76      0.50      0.60       148\n",
            "\n",
            "    accuracy                           0.68      8052\n",
            "   macro avg       0.71      0.53      0.57      8052\n",
            "weighted avg       0.69      0.68      0.66      8052\n",
            "\n"
          ]
        },
        {
          "output_type": "stream",
          "name": "stderr",
          "text": [
            "/usr/local/lib/python3.10/dist-packages/sklearn/metrics/_classification.py:1344: UndefinedMetricWarning: Precision and F-score are ill-defined and being set to 0.0 in labels with no predicted samples. Use `zero_division` parameter to control this behavior.\n",
            "  _warn_prf(average, modifier, msg_start, len(result))\n",
            "/usr/local/lib/python3.10/dist-packages/sklearn/metrics/_classification.py:1344: UndefinedMetricWarning: Precision and F-score are ill-defined and being set to 0.0 in labels with no predicted samples. Use `zero_division` parameter to control this behavior.\n",
            "  _warn_prf(average, modifier, msg_start, len(result))\n",
            "/usr/local/lib/python3.10/dist-packages/sklearn/metrics/_classification.py:1344: UndefinedMetricWarning: Precision and F-score are ill-defined and being set to 0.0 in labels with no predicted samples. Use `zero_division` parameter to control this behavior.\n",
            "  _warn_prf(average, modifier, msg_start, len(result))\n"
          ]
        }
      ],
      "source": [
        "\n",
        "# Choose the number of components you want after PCA\n",
        "num_components = 100\n",
        "\n",
        "# Apply PCA\n",
        "pca = PCA(n_components=num_components)\n",
        "X_train_tfidf_pca = pca.fit_transform(X_train_tfidf.toarray())\n",
        "X_val_tfidf_pca = pca.transform(X_val_tfidf.toarray())\n",
        "\n",
        "# Train Logistic Regression on the PCA-transformed features\n",
        "try: logistic_regression_classifier_pca = joblib.load(PROJECT_FOLDER+\"classifiers/logistic_regression_classifier_tfidf_100.pkl\")\n",
        "except:\n",
        "  logistic_regression_classifier_pca = LogisticRegression(max_iter=1000)\n",
        "  logistic_regression_classifier_pca.fit(X_train_tfidf_pca, y_train)\n",
        "  joblib.dump(logistic_regression_classifier_pca,PROJECT_FOLDER+\"classifiers/logistic_regression_classifier_tfidf_100.pkl\")\n",
        "\n",
        "# Predictions on the validation set using PCA\n",
        "val_predictions_pca = logistic_regression_classifier_pca.predict(X_val_tfidf_pca)\n",
        "\n",
        "# Evaluate the model with PCA-transformed features\n",
        "accuracy_pca = accuracy_score(y_val, val_predictions_pca)\n",
        "print(\"Logistic Regression + PCA Accuracy:\", accuracy_pca)\n",
        "print(\"\\nClassification Report (PCA):\")\n",
        "print(classification_report(y_val, val_predictions_pca))\n"
      ]
    },
    {
      "cell_type": "markdown",
      "metadata": {
        "id": "t-3mPA0_ihpn"
      },
      "source": [
        "Questo, invece è un risultato, più sorprendente: a parità di dimensioni (100 features per ogni documento) abbiamo comunque una netta vittori di tf-IDF su word2vec."
      ]
    },
    {
      "cell_type": "code",
      "execution_count": null,
      "metadata": {
        "colab": {
          "base_uri": "https://localhost:8080/"
        },
        "id": "COBiSR03i5Q3",
        "outputId": "33d8ddfd-9446-418c-d40a-da961b8745e7"
      },
      "outputs": [
        {
          "output_type": "stream",
          "name": "stdout",
          "text": [
            "Logistic Regression + PCA Accuracy: 0.8034028812717338\n",
            "\n",
            "Classification Report (PCA):\n",
            "              precision    recall  f1-score   support\n",
            "\n",
            "           1       0.84      0.84      0.84       135\n",
            "           2       1.00      0.23      0.37        57\n",
            "           3       1.00      0.15      0.27        39\n",
            "           4       0.69      0.68      0.68       230\n",
            "           6       0.85      0.35      0.50        62\n",
            "           8       0.75      0.95      0.84      1049\n",
            "           9       0.84      0.78      0.81       161\n",
            "          10       0.90      0.62      0.74       132\n",
            "          11       0.74      0.53      0.62        53\n",
            "          12       0.88      0.65      0.75        88\n",
            "          13       0.88      0.50      0.64        74\n",
            "          14       0.81      0.94      0.87       386\n",
            "          15       0.82      0.88      0.85       223\n",
            "          16       0.00      0.00      0.00        22\n",
            "          17       0.84      0.64      0.73       107\n",
            "          18       0.76      0.76      0.76       149\n",
            "          19       0.71      0.82      0.76       233\n",
            "          20       0.94      0.83      0.88        76\n",
            "          21       0.82      0.91      0.86       327\n",
            "          22       0.98      0.56      0.71        84\n",
            "          23       0.93      0.53      0.67        70\n",
            "          24       0.76      0.39      0.52        41\n",
            "          25       0.78      0.71      0.74       173\n",
            "          26       0.94      0.99      0.97       669\n",
            "          27       0.95      0.37      0.54        51\n",
            "          28       0.81      0.72      0.76       135\n",
            "          29       0.96      0.73      0.83       106\n",
            "          30       0.78      0.86      0.82       144\n",
            "          32       0.84      0.67      0.74       106\n",
            "          33       0.80      0.91      0.85       247\n",
            "          34       0.92      0.61      0.73        79\n",
            "          35       0.55      0.32      0.41        81\n",
            "          36       0.94      0.76      0.84        96\n",
            "          37       0.61      0.81      0.69       347\n",
            "          38       0.85      0.66      0.75       176\n",
            "          39       0.84      0.92      0.88       331\n",
            "          40       0.92      0.75      0.83        60\n",
            "          41       0.74      0.68      0.71       123\n",
            "          42       0.94      0.98      0.96       166\n",
            "          43       0.82      0.87      0.84       209\n",
            "          44       0.76      0.33      0.46        67\n",
            "          45       0.76      0.85      0.80       389\n",
            "          46       0.82      0.47      0.60        85\n",
            "          48       0.81      0.85      0.83       266\n",
            "          50       0.85      0.68      0.76       148\n",
            "\n",
            "    accuracy                           0.80      8052\n",
            "   macro avg       0.82      0.67      0.71      8052\n",
            "weighted avg       0.81      0.80      0.79      8052\n",
            "\n"
          ]
        },
        {
          "output_type": "stream",
          "name": "stderr",
          "text": [
            "/usr/local/lib/python3.10/dist-packages/sklearn/metrics/_classification.py:1344: UndefinedMetricWarning: Precision and F-score are ill-defined and being set to 0.0 in labels with no predicted samples. Use `zero_division` parameter to control this behavior.\n",
            "  _warn_prf(average, modifier, msg_start, len(result))\n",
            "/usr/local/lib/python3.10/dist-packages/sklearn/metrics/_classification.py:1344: UndefinedMetricWarning: Precision and F-score are ill-defined and being set to 0.0 in labels with no predicted samples. Use `zero_division` parameter to control this behavior.\n",
            "  _warn_prf(average, modifier, msg_start, len(result))\n",
            "/usr/local/lib/python3.10/dist-packages/sklearn/metrics/_classification.py:1344: UndefinedMetricWarning: Precision and F-score are ill-defined and being set to 0.0 in labels with no predicted samples. Use `zero_division` parameter to control this behavior.\n",
            "  _warn_prf(average, modifier, msg_start, len(result))\n"
          ]
        }
      ],
      "source": [
        "\n",
        "# Choose the number of components you want after PCA\n",
        "num_components = 500\n",
        "\n",
        "# Apply PCA\n",
        "pca = PCA(n_components=num_components)\n",
        "X_train_tfidf_pca = pca.fit_transform(X_train_tfidf.toarray())\n",
        "X_val_tfidf_pca = pca.transform(X_val_tfidf.toarray())\n",
        "\n",
        "# Train Logistic Regression on the PCA-transformed features\n",
        "try: logistic_regression_classifier_pca = joblib.load(PROJECT_FOLDER+\"classifiers/logistic_regression_classifier_tfidf_500.pkl\")\n",
        "except:\n",
        "  logistic_regression_classifier_pca = LogisticRegression(max_iter=1000)\n",
        "  logistic_regression_classifier_pca.fit(X_train_tfidf_pca, y_train)\n",
        "  joblib.dump(logistic_regression_classifier_pca,PROJECT_FOLDER+\"classifiers/logistic_regression_classifier_tfidf_500.pkl\")\n",
        "\n",
        "# Predictions on the validation set using PCA\n",
        "val_predictions_pca = logistic_regression_classifier_pca.predict(X_val_tfidf_pca)\n",
        "\n",
        "# Evaluate the model with PCA-transformed features\n",
        "accuracy_pca = accuracy_score(y_val, val_predictions_pca)\n",
        "print(\"Logistic Regression + PCA Accuracy:\", accuracy_pca)\n",
        "print(\"\\nClassification Report (PCA):\")\n",
        "print(classification_report(y_val, val_predictions_pca))\n"
      ]
    },
    {
      "cell_type": "markdown",
      "metadata": {
        "id": "dQSveTLMjqwn"
      },
      "source": [
        "aumentando il numero delle componenti si può migliorare sensibilmente il risultato riducendo comunque di molto la dimensionalità rispetto all'originale (5000 features)"
      ]
    },
    {
      "cell_type": "markdown",
      "metadata": {
        "id": "Tao--q0ZO-yZ"
      },
      "source": [
        "\n",
        "\n",
        "### Lo stile di scrittura [esperimento fallito]\n",
        "un lato, però, però che un approccio BoW non cattura, o almeno, cattura solo in parte è l'aspetto dell \"stile di scrittura\" di un autore. Questo tipo di aspetto, per quanto questo possa opinabilmente considerarsi secondario rispetto a nomi di personaggi e termini ricorrenti, è comunque un aspetto del problema che va considerato.\n",
        "\n",
        "Per questo motivo vale la pena provare a mettere in pipeline con il modello tf-idf un altro metodo di feature extraction che si basa sul contesto in cui la parola viene trovata: n-grams.\n",
        "\n",
        "### Bigrams con BoW"
      ]
    },
    {
      "cell_type": "code",
      "execution_count": null,
      "metadata": {
        "id": "4Gv5SnVRYgre"
      },
      "outputs": [],
      "source": [
        "from sklearn.decomposition import TruncatedSVD\n",
        "from sklearn.linear_model import LogisticRegression\n",
        "from sklearn.pipeline import Pipeline, FeatureUnion\n",
        "from sklearn.feature_extraction.text import TfidfVectorizer, CountVectorizer\n",
        "from sklearn.model_selection import train_test_split\n",
        "from sklearn.metrics import accuracy_score, classification_report\n",
        "import joblib\n",
        "\n",
        "# Load preprocessed text\n",
        "preprocessed_text = joblib.load(PROJECT_FOLDER + \"data/preprocessed_text.pkl\")\n",
        "\n",
        "# Convert it back to a list of strings\n",
        "preprocessed_text_strings = [' '.join(tokens) for tokens in preprocessed_text]\n",
        "\n",
        "# Create the TF-IDF pipeline with TruncatedSVD\n",
        "tfidf_svd_pipeline = Pipeline([\n",
        "    ('tfidf', TfidfVectorizer(max_features=500, stop_words='english')),\n",
        "    ('svd', TruncatedSVD(n_components=100)),  # Adjust n_components as needed\n",
        "])\n",
        "\n",
        "# N-grams Vectorization\n",
        "ngrams_vectorizer = CountVectorizer(ngram_range=(1, 2))\n",
        "\n",
        "# Create a feature union of TF-IDF with TruncatedSVD and n-grams\n",
        "combined_features = FeatureUnion([\n",
        "    ('tfidf_svd', tfidf_svd_pipeline),\n",
        "    ('ngrams', ngrams_vectorizer),\n",
        "])\n",
        "\n",
        "# Linear Regression\n",
        "linear_regression_classifier = LogisticRegression(max_iter=1000)\n",
        "\n",
        "# Create the final pipeline\n",
        "combined_features_pipeline = Pipeline([\n",
        "    ('features', combined_features),\n",
        "    ('classifier', linear_regression_classifier),\n",
        "])\n",
        "\n",
        "# Fit the pipeline on the training data\n",
        "combined_features_pipeline.fit(X_train, y_train)\n",
        "\n",
        "# Save the trained models\n",
        "joblib.dump(combined_features_pipeline, PROJECT_FOLDER + 'embeddings_models/combined_features_pipeline.pkl')\n",
        "\n",
        "# Predictions on the validation set\n",
        "val_predictions = combined_features_pipeline.predict(y_val)\n",
        "\n",
        "# Evaluate the model on the validation set\n",
        "accuracy = accuracy_score(y_val, val_predictions)\n",
        "print(\"Validation Set Accuracy:\", accuracy)\n",
        "\n",
        "# Display additional evaluation metrics\n",
        "print(\"\\nValidation Set Classification Report:\")\n",
        "print(classification_report(val_labels, val_predictions))\n"
      ]
    },
    {
      "cell_type": "markdown",
      "metadata": {
        "id": "jl3KKTlJoQcq"
      },
      "source": [
        "*Questo* approccio, per quanto fosse una buona idea non è stato applicapible per questioni di memoria.\n",
        "Anche facendo una importante riduzione dimensionale sui vettori tf-idf i fanno comunque crescere in maniera esagerata la rappresentazione dei features.\n",
        "\n"
      ]
    },
    {
      "cell_type": "markdown",
      "metadata": {
        "id": "eLm9hzaRoyEv"
      },
      "source": [
        "## Classificazione\n",
        "\n",
        "A questo punto, abbiamo individuato il modo migliore per rappresentare i feature, e resta da scegliere il miglior modo per fare classificazione.\n",
        "Abbiamo testato diversi tipi di classificatori, ed abbiamo poi, in una fase successiva, ricercato gli iperparametri migliori solo dei modelli più promettenti."
      ]
    },
    {
      "cell_type": "markdown",
      "metadata": {
        "id": "43CvxiPTB5hy"
      },
      "source": [
        "### Naive Bayes\n",
        "Il classificatore Naive Bayes è un modello probabilistico basato sul teorema di Bayes, che utilizza l'assunzione \"naive\" di indipendenza condizionale tra le feature. Questa assunzione semplifica i calcoli e rende il modello computazionalmente efficiente.\n",
        "\n",
        "Il teorema di Bayes è formulato come segue:\n",
        "$$\n",
        "P(C | X) = \\frac{P(X | C) \\cdot P(C)}{P(X)}\n",
        "$$\n",
        "Dove:\n",
        "- \\( P(C | X) \\) è la probabilità condizionale della classe \\( C \\) dato l'input \\( X \\).\n",
        "- \\( P(X | C) \\) è la probabilità condizionale dell'input \\( X \\) dato che la classe è \\( C \\).\n",
        "- \\( P(C) \\) è la probabilità a priori della classe \\( C \\).\n",
        "- \\( P(X) \\) è la probabilità a priori dell'input \\( X \\).\n",
        "\n",
        "Nel contesto del Naive Bayes, l'assunzione \"naive\" implica che le feature siano indipendenti dato il valore della classe. La formula Naive Bayes diventa quindi:\n",
        "$$\n",
        "P(C | X_1, X_2, ..., X_n) = \\frac{P(X_1 | C) \\cdot P(X_2 | C) \\cdot ... \\cdot P(X_n | C) \\cdot P(C)}{P(X_1) \\cdot P(X_2) \\cdot ... \\cdot P(X_n)}\n",
        "$$\n",
        "Dove \\( X_1, X_2, ..., X_n \\) sono le feature.\n",
        "\n",
        "\n",
        "Naive Bayes in questo caso può essere applicato solamente senza riduzione dimensionale, in quanto SVD, e dunque PCA, generano matrici con valori negativi.\n",
        "Questo risultato è comunque molto significativo, in quanto è veloce anche con l'intera rappresentazione tf-idf (a 5000 features), il risultato è comunque peggiore (significativamente peggiore) rispetto alla logistic regression."
      ]
    },
    {
      "cell_type": "code",
      "execution_count": null,
      "metadata": {
        "colab": {
          "base_uri": "https://localhost:8080/"
        },
        "id": "W63TLltvCU7b",
        "outputId": "c6f70cd0-b82c-41fa-f0b1-cc3275386982"
      },
      "outputs": [
        {
          "output_type": "stream",
          "name": "stdout",
          "text": [
            "Naive Bayes + All Features Accuracy: 0.7355936413313463\n",
            "\n",
            "Classification Report (All Features):\n",
            "              precision    recall  f1-score   support\n",
            "\n",
            "           1       0.95      0.81      0.87       151\n",
            "           2       1.00      0.03      0.06        64\n",
            "           3       0.00      0.00      0.00        34\n",
            "           4       0.77      0.55      0.64       206\n",
            "           6       1.00      0.03      0.06        67\n",
            "           8       0.49      0.95      0.64      1061\n",
            "           9       0.94      0.61      0.74       161\n",
            "          10       1.00      0.62      0.76        99\n",
            "          11       0.97      0.55      0.70        58\n",
            "          12       0.97      0.54      0.69       107\n",
            "          13       1.00      0.44      0.62        72\n",
            "          14       0.91      0.81      0.85       422\n",
            "          15       0.96      0.82      0.88       212\n",
            "          16       0.00      0.00      0.00        26\n",
            "          17       1.00      0.24      0.38        93\n",
            "          18       0.89      0.58      0.70       170\n",
            "          19       0.68      0.84      0.75       222\n",
            "          20       0.91      0.82      0.87        90\n",
            "          21       0.80      0.87      0.83       334\n",
            "          22       1.00      0.37      0.54        75\n",
            "          23       0.96      0.34      0.51        67\n",
            "          24       1.00      0.52      0.68        62\n",
            "          25       0.86      0.46      0.60       161\n",
            "          26       0.87      0.99      0.93       636\n",
            "          27       1.00      0.35      0.52        43\n",
            "          28       0.73      0.74      0.73       134\n",
            "          29       1.00      0.66      0.79        94\n",
            "          30       0.95      0.72      0.82       149\n",
            "          32       0.91      0.63      0.74       116\n",
            "          33       0.82      0.90      0.86       266\n",
            "          34       1.00      0.51      0.67        73\n",
            "          35       0.98      0.44      0.60       103\n",
            "          36       0.93      0.83      0.88        99\n",
            "          37       0.49      0.85      0.62       345\n",
            "          38       0.96      0.53      0.69       186\n",
            "          39       0.75      0.92      0.83       316\n",
            "          40       1.00      0.20      0.33        71\n",
            "          41       0.80      0.44      0.57       143\n",
            "          42       0.98      0.95      0.96       137\n",
            "          43       0.87      0.88      0.87       194\n",
            "          44       1.00      0.14      0.24        81\n",
            "          45       0.80      0.76      0.78       337\n",
            "          46       1.00      0.29      0.45        92\n",
            "          48       0.80      0.83      0.81       288\n",
            "          50       0.99      0.57      0.72       135\n",
            "\n",
            "    accuracy                           0.74      8052\n",
            "   macro avg       0.86      0.58      0.64      8052\n",
            "weighted avg       0.81      0.74      0.72      8052\n",
            "\n"
          ]
        },
        {
          "output_type": "stream",
          "name": "stderr",
          "text": [
            "/usr/local/lib/python3.10/dist-packages/sklearn/metrics/_classification.py:1344: UndefinedMetricWarning: Precision and F-score are ill-defined and being set to 0.0 in labels with no predicted samples. Use `zero_division` parameter to control this behavior.\n",
            "  _warn_prf(average, modifier, msg_start, len(result))\n",
            "/usr/local/lib/python3.10/dist-packages/sklearn/metrics/_classification.py:1344: UndefinedMetricWarning: Precision and F-score are ill-defined and being set to 0.0 in labels with no predicted samples. Use `zero_division` parameter to control this behavior.\n",
            "  _warn_prf(average, modifier, msg_start, len(result))\n",
            "/usr/local/lib/python3.10/dist-packages/sklearn/metrics/_classification.py:1344: UndefinedMetricWarning: Precision and F-score are ill-defined and being set to 0.0 in labels with no predicted samples. Use `zero_division` parameter to control this behavior.\n",
            "  _warn_prf(average, modifier, msg_start, len(result))\n"
          ]
        }
      ],
      "source": [
        "\n",
        "# Train Multinomial Naive Bayes classifier on all TF-IDF features\n",
        "naive_bayes_classifier_full = MultinomialNB()\n",
        "naive_bayes_classifier_full.fit(X_train_tfidf, y_train)\n",
        "\n",
        "# Predictions on the validation set using all features\n",
        "test_predictions_full = naive_bayes_classifier_full.predict(X_test_tfidf)\n",
        "\n",
        "# Evaluate the model with all features\n",
        "accuracy_full = accuracy_score(y_test, test_predictions_full)\n",
        "print(\"Naive Bayes + All Features Accuracy:\", accuracy_full)\n",
        "print(\"\\nClassification Report (All Features):\")\n",
        "print(classification_report(y_test, test_predictions_full))\n"
      ]
    },
    {
      "cell_type": "markdown",
      "metadata": {
        "id": "tSZIOw0zD8iE"
      },
      "source": [
        "###Logistic regression\n"
      ]
    },
    {
      "cell_type": "markdown",
      "source": [
        "La regressione logistica è un modello statistico utilizzato per modellare la probabilità di appartenenza di un'osservazione a una delle o più classi possibili. A differenza della regressione lineare, che prevede valori continui, la regressione logistica produce probabilità comprese tra 0 e 1.\n",
        "\n",
        "Il modello di regressione logistica utilizza la funzione logistica (o sigmoide) per trasformare una combinazione lineare delle variabili indipendenti:\n",
        "$$\n",
        "P(Y=1) = \\frac{1}{1 + e^{-(\\beta_0 + \\beta_1 X_1 + \\beta_2 X_2 + \\ldots + \\beta_n X_n)}}\n",
        "$$\n",
        "Dove:\n",
        "- \\( P(Y=1) \\) è la probabilità che l'evento \\( Y \\) si verifichi,\n",
        "- \\( e \\) è la base del logaritmo naturale,\n",
        "- \\( \\beta_0 \\) è l'intercetta,\n",
        "- \\( \\beta_1, \\beta_2, \\ldots, \\beta_n \\) sono i coefficienti delle variabili indipendenti \\( X_1, X_2, \\ldots, X_n \\).\n",
        "\n",
        "La probabilità che l'evento \\( Y \\) non si verifichi (\\( P(Y=0) \\)) è data da:\n",
        "$$\n",
        "P(Y=0) = 1 - P(Y=1)\n",
        "$$\n",
        "L'obiettivo della regressione logistica è stimare i coefficienti $\\beta$ in modo che massimizzino la verosimiglianza dei dati osservati.\n",
        "\n",
        "La regressione logistica è ampiamente utilizzata in problemi di classificazione binaria, come la predizione di successo/fallimento, presenza/assenza di una condizione, ecc.\n",
        "\n",
        "Nel nostro caso utilizzeremo la regressione logistica multinomiale:\n",
        "in questo tipo di modello di regressione logistica, la variabile dipendente ha tre o più possibili risultati; tuttavia, questi valori non hanno alcun ordine specifico."
      ],
      "metadata": {
        "id": "n_IkLSzdZlze"
      }
    },
    {
      "cell_type": "markdown",
      "metadata": {
        "id": "V6wzHdrfnPCA"
      },
      "source": [
        "Per ora questo è il metodo di classificazione che ha prodotto il miglior risultato in tempi brevi. Impiega lo stesso tempo che impiga knn con dimensionalità ridotta, ottenendo risultati nettamente superiori. Questo potrebbe indicare un'alta linearità della task. Per questo motivo potrebbe essere produttivo tentare di classificare con metodi lineari come SVM."
      ]
    },
    {
      "cell_type": "code",
      "execution_count": null,
      "metadata": {
        "colab": {
          "base_uri": "https://localhost:8080/"
        },
        "id": "qUDt34RJmKpM",
        "outputId": "bb273d14-9b32-4c61-e7f0-ac0cc030dbac"
      },
      "outputs": [
        {
          "output_type": "stream",
          "name": "stdout",
          "text": [
            "Logistic Regression + TF-IDF Accuracy: 0.9298310978638847\n",
            "\n",
            "Classification Report (TF-IDF):\n",
            "              precision    recall  f1-score   support\n",
            "\n",
            "           1       0.96      0.95      0.95       135\n",
            "           2       1.00      0.56      0.72        57\n",
            "           3       1.00      0.69      0.82        39\n",
            "           4       0.88      0.81      0.85       230\n",
            "           6       0.96      0.69      0.80        62\n",
            "           8       0.88      0.97      0.93      1049\n",
            "           9       0.96      0.96      0.96       161\n",
            "          10       0.98      0.92      0.95       132\n",
            "          11       0.93      0.74      0.82        53\n",
            "          12       0.94      0.94      0.94        88\n",
            "          13       1.00      0.78      0.88        74\n",
            "          14       0.95      0.99      0.97       386\n",
            "          15       0.96      0.97      0.97       223\n",
            "          16       0.90      0.41      0.56        22\n",
            "          17       0.95      0.82      0.88       107\n",
            "          18       0.92      0.96      0.94       149\n",
            "          19       0.94      0.96      0.95       233\n",
            "          20       0.95      0.96      0.95        76\n",
            "          21       0.92      0.96      0.94       327\n",
            "          22       1.00      0.83      0.91        84\n",
            "          23       0.93      0.71      0.81        70\n",
            "          24       0.89      0.76      0.82        41\n",
            "          25       0.95      0.95      0.95       173\n",
            "          26       0.96      1.00      0.98       669\n",
            "          27       0.97      0.71      0.82        51\n",
            "          28       0.94      0.88      0.91       135\n",
            "          29       0.99      0.91      0.95       106\n",
            "          30       0.87      0.96      0.91       144\n",
            "          32       0.94      0.95      0.95       106\n",
            "          33       0.92      0.98      0.95       247\n",
            "          34       0.98      0.73      0.84        79\n",
            "          35       0.99      0.84      0.91        81\n",
            "          36       0.99      0.91      0.95        96\n",
            "          37       0.81      0.95      0.87       347\n",
            "          38       0.94      0.94      0.94       176\n",
            "          39       0.95      0.95      0.95       331\n",
            "          40       0.95      0.95      0.95        60\n",
            "          41       0.91      0.86      0.89       123\n",
            "          42       0.98      0.99      0.99       166\n",
            "          43       0.95      0.97      0.96       209\n",
            "          44       1.00      0.79      0.88        67\n",
            "          45       0.93      0.95      0.94       389\n",
            "          46       0.99      0.89      0.94        85\n",
            "          48       0.91      0.94      0.93       266\n",
            "          50       0.99      0.89      0.94       148\n",
            "\n",
            "    accuracy                           0.93      8052\n",
            "   macro avg       0.95      0.87      0.90      8052\n",
            "weighted avg       0.93      0.93      0.93      8052\n",
            "\n"
          ]
        }
      ],
      "source": [
        "logistic_regression_classifier_tfidf = joblib.load(PROJECT_FOLDER+\"classifiers/logistic_regression_classifier_tfidf.pkl\")\n",
        "if logistic_regression_classifier_tfidf == None:\n",
        "  # Train Logistic Regression classifier on TF-IDF vectors\n",
        "  logistic_regression_classifier_tfidf = LogisticRegression(max_iter=1000)\n",
        "  logistic_regression_classifier_tfidf.fit(X_train_tfidf, y_train)\n",
        "\n",
        "# Predictions on the validation set using TF-IDF\n",
        "val_predictions_tfidf = logistic_regression_classifier_tfidf.predict(X_val_tfidf)\n",
        "\n",
        "# Evaluate the TF-IDF model with Logistic Regression\n",
        "accuracy_tfidf = accuracy_score(y_val, val_predictions_tfidf)\n",
        "print(\"Logistic Regression + TF-IDF Accuracy:\", accuracy_tfidf)\n",
        "print(\"\\nClassification Report (TF-IDF):\")\n",
        "print(classification_report(y_val, val_predictions_tfidf))"
      ]
    },
    {
      "cell_type": "markdown",
      "metadata": {
        "id": "NvYk-SgZpKVD"
      },
      "source": [
        "### KNN"
      ]
    },
    {
      "cell_type": "markdown",
      "source": [
        "K-Nearest Neighbors (KNN) è un algoritmo di apprendimento automatico utilizzato per la classificazione e la regressione. In particolare, useremo la versione di KNN per la classificazione, in cui un'istanza viene assegnata alla classe più comune tra i suoi k vicini più prossimi.\n",
        "\n",
        "**K-Nearest Neighbors (KNN) per la Classificazione:**\n",
        "\n",
        "1. **Definizione dell'algoritmo:** L'algoritmo KNN assegna a un'istanza sconosciuta la classe più comune tra i suoi k vicini più prossimi nel set di addestramento.\n",
        "\n",
        "2. **Calcolo della Distanza:** Per determinare i vicini più prossimi, l'algoritmo calcola la distanza tra l'istanza sconosciuta e ogni istanza nel set di addestramento. La distanza può essere calcolata utilizzando metriche come la distanza euclidea o la distanza di Manhatten.\n",
        "\n",
        "3. **Selezione dei Vicini:** Vengono selezionati i k vicini più prossimi in base alle distanze calcolate.\n",
        "\n",
        "4. **Classificazione:** L'istanza sconosciuta viene assegnata alla classe più comune tra i suoi k vicini più prossimi.\n",
        "\n",
        "**Formula per la Distanza Euclidea tra due Punti in uno Spazio bidimensionale:**\n",
        "\n",
        "$$ d(A, B) = \\sqrt{(x_A - x_B)^2 + (y_A - y_B)^2} $$\n",
        "\n",
        "Dove:\n",
        "- \\( A \\) e \\( B \\) sono due punti nello spazio bidimensionale,\n",
        "- \\( (x_A, y_A) \\) e \\( (x_B, y_B) \\) sono le coordinate di \\( A \\) e \\( B \\).\n"
      ],
      "metadata": {
        "id": "nhhoA-58g1SK"
      }
    },
    {
      "cell_type": "markdown",
      "metadata": {
        "id": "X-lC9cS6156O"
      },
      "source": [
        "#### KNN con riduzione componenti a 100\n",
        "Per KNN si è rivelato necessario ridurre il numero delle componenti, in quanto utilizzare tutte le 5mila features rende l'algoritmo troppo lento.\n",
        "\n",
        "riducendo le componenti con PCA a 100, il risultato è migliore di quello ottenuto con naive bayes:"
      ]
    },
    {
      "cell_type": "code",
      "execution_count": 55,
      "metadata": {
        "colab": {
          "base_uri": "https://localhost:8080/"
        },
        "id": "Lp2l8KTg0m7_",
        "outputId": "fd563aa9-fa2b-425f-bb3b-cf9526febc92"
      },
      "outputs": [
        {
          "output_type": "stream",
          "name": "stdout",
          "text": [
            "k-NN + PCA Accuracy: 0.8272478887232986\n",
            "\n",
            "Classification Report (PCA):\n",
            "              precision    recall  f1-score   support\n",
            "\n",
            "           1       0.56      0.84      0.67       135\n",
            "           2       0.58      0.49      0.53        57\n",
            "           3       0.60      0.67      0.63        39\n",
            "           4       0.61      0.75      0.67       230\n",
            "           6       0.72      0.68      0.70        62\n",
            "           8       0.82      0.92      0.87      1049\n",
            "           9       0.82      0.80      0.81       161\n",
            "          10       0.83      0.91      0.87       132\n",
            "          11       0.83      0.75      0.79        53\n",
            "          12       0.70      0.75      0.73        88\n",
            "          13       0.68      0.70      0.69        74\n",
            "          14       0.85      0.88      0.86       386\n",
            "          15       0.78      0.79      0.79       223\n",
            "          16       0.57      0.59      0.58        22\n",
            "          17       0.70      0.73      0.72       107\n",
            "          18       0.73      0.77      0.75       149\n",
            "          19       0.79      0.93      0.86       233\n",
            "          20       0.87      0.88      0.88        76\n",
            "          21       0.82      0.88      0.85       327\n",
            "          22       0.84      0.68      0.75        84\n",
            "          23       0.80      0.56      0.66        70\n",
            "          24       0.73      0.85      0.79        41\n",
            "          25       0.78      0.66      0.72       173\n",
            "          26       0.98      1.00      0.99       669\n",
            "          27       0.78      0.71      0.74        51\n",
            "          28       0.86      0.92      0.89       135\n",
            "          29       0.94      0.77      0.85       106\n",
            "          30       0.89      0.65      0.75       144\n",
            "          32       0.86      0.89      0.87       106\n",
            "          33       0.84      0.82      0.83       247\n",
            "          34       0.87      0.76      0.81        79\n",
            "          35       0.61      0.62      0.61        81\n",
            "          36       0.96      0.78      0.86        96\n",
            "          37       0.82      0.81      0.82       347\n",
            "          38       0.85      0.76      0.80       176\n",
            "          39       0.94      0.86      0.90       331\n",
            "          40       0.87      0.67      0.75        60\n",
            "          41       0.83      0.77      0.80       123\n",
            "          42       0.98      0.96      0.97       166\n",
            "          43       0.88      0.78      0.83       209\n",
            "          44       0.58      0.58      0.58        67\n",
            "          45       0.87      0.81      0.84       389\n",
            "          46       0.93      0.46      0.61        85\n",
            "          48       0.91      0.88      0.90       266\n",
            "          50       0.88      0.67      0.76       148\n",
            "\n",
            "    accuracy                           0.83      8052\n",
            "   macro avg       0.80      0.76      0.78      8052\n",
            "weighted avg       0.83      0.83      0.83      8052\n",
            "\n"
          ]
        }
      ],
      "source": [
        "from sklearn.neighbors import KNeighborsClassifier\n",
        "\n",
        "\n",
        "# Choose the number of components you want after PCA\n",
        "num_components = 100\n",
        "\n",
        "# Apply PCA\n",
        "pca = PCA(n_components=num_components)\n",
        "X_train_tfidf_pca = pca.fit_transform(X_train_tfidf.toarray())\n",
        "X_val_tfidf_pca = pca.transform(X_val_tfidf.toarray())\n",
        "\n",
        "# Train k-NN classifier on the PCA-transformed features\n",
        "knn_classifier_pca = KNeighborsClassifier(n_neighbors=3)  # You can adjust the number of neighbors (n_neighbors) as needed\n",
        "knn_classifier_pca.fit(X_train_tfidf_pca, y_train)\n",
        "\n",
        "# Predictions on the validation set using PCA\n",
        "val_predictions_pca = knn_classifier_pca.predict(X_val_tfidf_pca)\n",
        "\n",
        "# Evaluate the model with PCA-transformed features\n",
        "accuracy_pca = accuracy_score(y_val, val_predictions_pca)\n",
        "print(\"k-NN + PCA Accuracy:\", accuracy_pca)\n",
        "print(\"\\nClassification Report (PCA):\")\n",
        "print(classification_report(y_val, val_predictions_pca))\n"
      ]
    },
    {
      "cell_type": "markdown",
      "metadata": {
        "id": "kq23KJGN3p0G"
      },
      "source": [
        "#### KNN con PCA a 500+ componenti\n",
        "\n",
        "Aumentando le componenti non si ottiene comuque un modello migliore rispetto alla regressione lineare."
      ]
    },
    {
      "cell_type": "code",
      "execution_count": 57,
      "metadata": {
        "colab": {
          "base_uri": "https://localhost:8080/"
        },
        "id": "B9Sn_jqtoVnm",
        "outputId": "d8b07c6b-2203-40f2-9047-90f49ddae1c0"
      },
      "outputs": [
        {
          "output_type": "stream",
          "name": "stdout",
          "text": [
            "k-NN + PCA Accuracy: 0.8625186289120715\n",
            "\n",
            "Classification Report (PCA):\n",
            "              precision    recall  f1-score   support\n",
            "\n",
            "           1       0.71      0.89      0.79       135\n",
            "           2       0.80      0.61      0.69        57\n",
            "           3       0.89      0.85      0.87        39\n",
            "           4       0.77      0.79      0.78       230\n",
            "           6       0.80      0.71      0.75        62\n",
            "           8       0.85      0.94      0.89      1049\n",
            "           9       0.76      0.82      0.79       161\n",
            "          10       0.89      0.98      0.93       132\n",
            "          11       0.88      0.79      0.83        53\n",
            "          12       0.77      0.89      0.83        88\n",
            "          13       0.91      0.85      0.88        74\n",
            "          14       0.86      0.92      0.89       386\n",
            "          15       0.92      0.77      0.84       223\n",
            "          16       0.63      0.55      0.59        22\n",
            "          17       0.82      0.82      0.82       107\n",
            "          18       0.87      0.85      0.86       149\n",
            "          19       0.57      0.94      0.71       233\n",
            "          20       0.92      0.93      0.93        76\n",
            "          21       0.91      0.86      0.89       327\n",
            "          22       0.77      0.75      0.76        84\n",
            "          23       0.33      0.64      0.43        70\n",
            "          24       0.83      0.85      0.84        41\n",
            "          25       0.89      0.71      0.79       173\n",
            "          26       0.99      0.99      0.99       669\n",
            "          27       0.60      0.76      0.67        51\n",
            "          28       0.91      0.96      0.94       135\n",
            "          29       0.93      0.94      0.93       106\n",
            "          30       0.92      0.68      0.78       144\n",
            "          32       0.87      0.92      0.89       106\n",
            "          33       0.91      0.85      0.88       247\n",
            "          34       0.98      0.76      0.86        79\n",
            "          35       0.76      0.74      0.75        81\n",
            "          36       1.00      0.80      0.89        96\n",
            "          37       0.89      0.82      0.86       347\n",
            "          38       0.91      0.81      0.86       176\n",
            "          39       0.95      0.90      0.93       331\n",
            "          40       0.92      0.80      0.86        60\n",
            "          41       0.89      0.83      0.86       123\n",
            "          42       0.99      0.96      0.97       166\n",
            "          43       0.96      0.75      0.84       209\n",
            "          44       0.84      0.69      0.75        67\n",
            "          45       0.93      0.86      0.89       389\n",
            "          46       0.98      0.67      0.80        85\n",
            "          48       0.96      0.87      0.91       266\n",
            "          50       0.97      0.76      0.85       148\n",
            "\n",
            "    accuracy                           0.86      8052\n",
            "   macro avg       0.85      0.82      0.83      8052\n",
            "weighted avg       0.88      0.86      0.87      8052\n",
            "\n"
          ]
        }
      ],
      "source": [
        "from sklearn.neighbors import KNeighborsClassifier\n",
        "\n",
        "# Choose the number of components you want after PCA\n",
        "num_components = 500\n",
        "\n",
        "# Apply PCA\n",
        "pca = PCA(n_components=num_components)\n",
        "X_train_tfidf_pca = pca.fit_transform(X_train_tfidf.toarray())\n",
        "X_val_tfidf_pca = pca.transform(X_val_tfidf.toarray())\n",
        "\n",
        "# Train k-NN classifier on the PCA-transformed features\n",
        "knn_classifier_pca = KNeighborsClassifier(n_neighbors=3)  # You can adjust the number of neighbors (n_neighbors) as needed\n",
        "knn_classifier_pca.fit(X_train_tfidf_pca, y_train)\n",
        "\n",
        "# Predictions on the validation set using PCA\n",
        "val_predictions_pca = knn_classifier_pca.predict(X_val_tfidf_pca)\n",
        "\n",
        "# Evaluate the model with PCA-transformed features\n",
        "accuracy_pca = accuracy_score(y_val, val_predictions_pca)\n",
        "print(\"k-NN + PCA Accuracy:\", accuracy_pca)\n",
        "print(\"\\nClassification Report (PCA):\")\n",
        "print(classification_report(y_val, val_predictions_pca))"
      ]
    },
    {
      "cell_type": "markdown",
      "source": [
        "Aumentando ancora di più il numero di features le performance calano.\n",
        "Questo probabilmente denota il fatto che alcune feature siano irrilevanti.\n",
        "In ogni caso quindi, il modello più soddisfacente è quello ottenuto riducendo la dimensionalità a 500."
      ],
      "metadata": {
        "id": "CvHGUmehlHRj"
      }
    },
    {
      "cell_type": "code",
      "source": [
        "from sklearn.neighbors import KNeighborsClassifier\n",
        "\n",
        "# Choose the number of components you want after PCA\n",
        "num_components = 1000\n",
        "\n",
        "# Apply PCA\n",
        "pca = PCA(n_components=num_components)\n",
        "X_train_tfidf_pca = pca.fit_transform(X_train_tfidf.toarray())\n",
        "X_val_tfidf_pca = pca.transform(X_val_tfidf.toarray())\n",
        "\n",
        "# Train k-NN classifier on the PCA-transformed features\n",
        "knn_classifier_pca = KNeighborsClassifier(n_neighbors=3)  # You can adjust the number of neighbors (n_neighbors) as needed\n",
        "knn_classifier_pca.fit(X_train_tfidf_pca, y_train)\n",
        "\n",
        "# Predictions on the validation set using PCA\n",
        "val_predictions_pca = knn_classifier_pca.predict(X_val_tfidf_pca)\n",
        "\n",
        "# Evaluate the model with PCA-transformed features\n",
        "accuracy_pca = accuracy_score(y_val, val_predictions_pca)\n",
        "print(\"k-NN + PCA Accuracy:\", accuracy_pca)\n",
        "print(\"\\nClassification Report (PCA):\")\n",
        "print(classification_report(y_val, val_predictions_pca))"
      ],
      "metadata": {
        "colab": {
          "base_uri": "https://localhost:8080/"
        },
        "id": "f9oHsgQekUxz",
        "outputId": "3be3b3ae-7d2a-47ea-abb5-2c197c0fab26"
      },
      "execution_count": 58,
      "outputs": [
        {
          "output_type": "stream",
          "name": "stdout",
          "text": [
            "k-NN + PCA Accuracy: 0.8348236462990561\n",
            "\n",
            "Classification Report (PCA):\n",
            "              precision    recall  f1-score   support\n",
            "\n",
            "           1       0.78      0.86      0.82       135\n",
            "           2       0.79      0.58      0.67        57\n",
            "           3       0.95      0.92      0.94        39\n",
            "           4       0.88      0.80      0.84       230\n",
            "           6       0.80      0.73      0.76        62\n",
            "           8       0.85      0.95      0.90      1049\n",
            "           9       0.82      0.81      0.82       161\n",
            "          10       0.96      0.98      0.97       132\n",
            "          11       0.88      0.79      0.83        53\n",
            "          12       0.86      0.91      0.88        88\n",
            "          13       0.94      0.91      0.92        74\n",
            "          14       0.88      0.90      0.89       386\n",
            "          15       0.94      0.82      0.88       223\n",
            "          16       0.67      0.64      0.65        22\n",
            "          17       0.82      0.83      0.82       107\n",
            "          18       0.85      0.85      0.85       149\n",
            "          19       0.23      0.97      0.37       233\n",
            "          20       0.92      0.87      0.89        76\n",
            "          21       0.95      0.80      0.87       327\n",
            "          22       0.93      0.74      0.82        84\n",
            "          23       0.91      0.59      0.71        70\n",
            "          24       0.86      0.78      0.82        41\n",
            "          25       0.96      0.60      0.74       173\n",
            "          26       1.00      1.00      1.00       669\n",
            "          27       0.92      0.67      0.77        51\n",
            "          28       0.91      0.97      0.94       135\n",
            "          29       0.98      0.86      0.91       106\n",
            "          30       0.92      0.70      0.80       144\n",
            "          32       0.95      0.79      0.87       106\n",
            "          33       0.96      0.74      0.84       247\n",
            "          34       0.98      0.78      0.87        79\n",
            "          35       0.95      0.65      0.77        81\n",
            "          36       0.99      0.81      0.89        96\n",
            "          37       0.91      0.77      0.84       347\n",
            "          38       0.97      0.78      0.86       176\n",
            "          39       0.97      0.89      0.93       331\n",
            "          40       0.91      0.82      0.86        60\n",
            "          41       0.94      0.68      0.79       123\n",
            "          42       1.00      0.88      0.94       166\n",
            "          43       0.96      0.63      0.76       209\n",
            "          44       0.96      0.73      0.83        67\n",
            "          45       0.96      0.76      0.85       389\n",
            "          46       0.97      0.66      0.78        85\n",
            "          48       0.96      0.82      0.88       266\n",
            "          50       0.98      0.68      0.80       148\n",
            "\n",
            "    accuracy                           0.83      8052\n",
            "   macro avg       0.90      0.79      0.83      8052\n",
            "weighted avg       0.90      0.83      0.85      8052\n",
            "\n"
          ]
        }
      ]
    },
    {
      "cell_type": "markdown",
      "metadata": {
        "id": "2Mq20QYhnyPN"
      },
      "source": [
        "### SVM\n",
        "\n",
        "**Support Vector Machines (SVM):**\n",
        "\n",
        "Le Support Vector Machines (SVM) sono un potente algoritmo di apprendimento automatico utilizzato per problemi di classificazione e regressione. L'approccio fondamentale delle SVM è trovare un iperpiano ottimale che separi distintamente le diverse classi nel nostro spazio di feature.\n",
        "\n",
        "\n",
        "**Come Funzionano:**\n",
        "\n",
        "Consideriamo un problema di classificazione binaria, dove abbiamo due classi: \\(y = -1\\) e \\(y = 1\\). L'obiettivo è trovare un iperpiano definito da \\(w \\cdot x + b = 0\\) che separi i due insiemi di dati. Qui, \\(w\\) rappresenta il vettore dei pesi delle feature e \\(b\\) è il termine bias.\n",
        "\n",
        "L'equazione dell'iperpiano può essere riscritta come:\n",
        "$$\n",
        "w \\cdot x_i + b \\geq 1 \\text{ per } y_i = 1\n",
        "$$\n",
        "$$\n",
        "w \\cdot x_i + b \\leq -1 \\text{ per } y_i = -1\n",
        "$$\n",
        "Queste due equazioni possono essere combinate in una singola equazione:\n",
        "$$\n",
        "y_i(w \\cdot x_i + b) - 1 \\geq 0\n",
        "$$\n",
        "\n",
        "L'obiettivo delle SVM è massimizzare il margine, la distanza tra l'iperpiano e i punti più vicini delle due classi. Il margine è proporzionale a \\(1/\\|w\\|\\). La formulazione del problema di ottimizzazione è quindi:\n",
        "$$\n",
        "\\text{Minimizza } \\frac{1}{2} \\|w\\|^2 \\text{ soggetto a } y_i(w \\cdot x_i + b) - 1 \\geq 0\n",
        "$$\n",
        "\n",
        "Questa è la forma del problema di ottimizzazione quadratico (QOP) che le SVM risolvono per trovare l'iperpiano ottimale.\n",
        "\n",
        "Inoltre, è possibile introdurre la slack variable $(\\xi_i)$ per gestire casi in cui i dati non sono completamente separabili linearmente. Questo porta alla forma dell'obiettivo:\n",
        "$$\n",
        "\\text{Minimizza } \\frac{1}{2} \\|w\\|^2 + C \\sum_i \\xi_i \\text{ soggetto a } y_i(w \\cdot x_i + b) \\geq 1 - \\xi_i \\text{ e } \\xi_i \\geq 0\n",
        "$$\n",
        "Dove \\(C\\) è un parametro di regolarizzazione che controlla il trade-off tra la massimizzazione del margine e la penalizzazione per le violazioni delle classi.\n",
        "\n",
        "Le SVM possono essere estese a spazi di feature non lineari attraverso l'uso di kernel, consentendo la separazione di classi più complesse."
      ]
    },
    {
      "cell_type": "markdown",
      "metadata": {
        "id": "_5w-0QN-n5m3"
      },
      "source": [
        "#### SVM con dimensionalità non ridotta (troppo tempo) [esperimento fallito]"
      ]
    },
    {
      "cell_type": "code",
      "execution_count": null,
      "metadata": {
        "id": "WHipUNb6n3fz"
      },
      "outputs": [],
      "source": [
        "from sklearn.svm import SVC\n",
        "from sklearn.feature_extraction.text import TfidfVectorizer\n",
        "from sklearn.model_selection import train_test_split\n",
        "from sklearn.metrics import accuracy_score, classification_report\n",
        "import joblib\n",
        "import pandas as pd\n",
        "\n",
        "# Load preprocessed text\n",
        "preprocessed_text = joblib.load(PROJECT_FOLDER + \"data/preprocessed_text.pkl\")\n",
        "\n",
        "preprocessed_text_strings = [' '.join(tokens) for tokens in preprocessed_text]\n",
        "\n",
        "# TF-IDF Vectorization\n",
        "tfidf_vectorizer = TfidfVectorizer(max_features=5000, stop_words='english')\n",
        "X_train_tfidf = tfidf_vectorizer.fit_transform(X_train)\n",
        "X_val_tfidf = tfidf_vectorizer.transform(X_val)\n",
        "\n",
        "# Load or train SVM classifier on TF-IDF vectors\n",
        "svm_classifier_tfidf = joblib.load(PROJECT_FOLDER + \"classifiers/svm_classifier_tfidf.pkl\")\n",
        "if svm_classifier_tfidf is None:\n",
        "    # Train SVM classifier on TF-IDF vectors\n",
        "    svm_classifier_tfidf = SVC(kernel='linear')  # You can adjust the kernel as needed\n",
        "    svm_classifier_tfidf.fit(X_train_tfidf, y_train)\n",
        "    joblib.dump(svm_classifier_tfidf, PROJECT_FOLDER + \"classifiers/svm_classifier_tfidf.pkl\")\n",
        "\n",
        "# Predictions on the validation set using TF-IDF\n",
        "val_predictions_tfidf_svm = svm_classifier_tfidf.predict(X_val_tfidf)\n",
        "\n",
        "# Evaluate the TF-IDF model with SVM\n",
        "accuracy_tfidf_svm = accuracy_score(y_val, val_predictions_tfidf_svm)\n",
        "print(\"SVM + TF-IDF Accuracy:\", accuracy_tfidf_svm)\n",
        "print(\"\\nClassification Report (TF-IDF):\")\n",
        "print(classification_report(y_val, val_predictions_tfidf_svm))\n"
      ]
    },
    {
      "cell_type": "markdown",
      "metadata": {
        "id": "j3pjGr5voXW5"
      },
      "source": [
        "#### SVM con dimensionalità ridotta a 500\n",
        "\n",
        "Anche se con dimensionalità ridotta a 500 le SVM forniscono comunque degli ottimi risultati, simili a quelli della regressione lineare."
      ]
    },
    {
      "cell_type": "code",
      "execution_count": 59,
      "metadata": {
        "colab": {
          "base_uri": "https://localhost:8080/"
        },
        "id": "0lxGbWbsocuN",
        "outputId": "452af8c9-bace-4ae1-f238-90aecabc572a"
      },
      "outputs": [
        {
          "output_type": "stream",
          "name": "stdout",
          "text": [
            "SVM + PCA Accuracy: 0.931197218082464\n",
            "\n",
            "Classification Report (PCA):\n",
            "              precision    recall  f1-score   support\n",
            "\n",
            "           1       0.97      0.94      0.95       135\n",
            "           2       0.98      0.81      0.88        57\n",
            "           3       0.97      0.77      0.86        39\n",
            "           4       0.78      0.83      0.80       230\n",
            "           6       0.93      0.81      0.86        62\n",
            "           8       0.89      0.97      0.93      1049\n",
            "           9       0.97      0.94      0.95       161\n",
            "          10       0.99      0.94      0.96       132\n",
            "          11       0.95      0.75      0.84        53\n",
            "          12       0.95      0.92      0.94        88\n",
            "          13       0.98      0.80      0.88        74\n",
            "          14       0.98      0.98      0.98       386\n",
            "          15       0.98      0.97      0.97       223\n",
            "          16       1.00      0.68      0.81        22\n",
            "          17       0.90      0.88      0.89       107\n",
            "          18       0.94      0.93      0.93       149\n",
            "          19       0.94      0.95      0.94       233\n",
            "          20       0.96      0.96      0.96        76\n",
            "          21       0.91      0.93      0.92       327\n",
            "          22       0.99      0.86      0.92        84\n",
            "          23       0.87      0.76      0.81        70\n",
            "          24       0.89      0.80      0.85        41\n",
            "          25       0.92      0.90      0.91       173\n",
            "          26       0.99      1.00      0.99       669\n",
            "          27       0.95      0.82      0.88        51\n",
            "          28       0.98      0.93      0.96       135\n",
            "          29       0.98      0.92      0.95       106\n",
            "          30       0.87      0.96      0.91       144\n",
            "          32       0.94      0.94      0.94       106\n",
            "          33       0.96      0.95      0.95       247\n",
            "          34       0.98      0.81      0.89        79\n",
            "          35       0.93      0.84      0.88        81\n",
            "          36       0.99      0.94      0.96        96\n",
            "          37       0.79      0.92      0.85       347\n",
            "          38       0.94      0.90      0.92       176\n",
            "          39       0.97      0.94      0.96       331\n",
            "          40       0.92      0.98      0.95        60\n",
            "          41       0.92      0.90      0.91       123\n",
            "          42       0.99      0.99      0.99       166\n",
            "          43       0.97      0.97      0.97       209\n",
            "          44       0.95      0.82      0.88        67\n",
            "          45       0.93      0.94      0.93       389\n",
            "          46       0.93      0.89      0.91        85\n",
            "          48       0.92      0.93      0.93       266\n",
            "          50       0.98      0.88      0.93       148\n",
            "\n",
            "    accuracy                           0.93      8052\n",
            "   macro avg       0.94      0.89      0.92      8052\n",
            "weighted avg       0.93      0.93      0.93      8052\n",
            "\n"
          ]
        }
      ],
      "source": [
        "\n",
        "# Choose the number of components you want after PCA\n",
        "num_components = 500\n",
        "\n",
        "# Apply PCA\n",
        "pca = PCA(n_components=num_components)\n",
        "X_train_tfidf_pca = pca.fit_transform(X_train_tfidf.toarray())\n",
        "X_val_tfidf_pca = pca.transform(X_val_tfidf.toarray())\n",
        "\n",
        "# Train SVM classifier on the PCA-transformed features\n",
        "try: svm_classifier_pca=joblib.load(PROJECT_FOLDER + \"classifiers/svm_classifier_pca500\")\n",
        "except:\n",
        "  svm_classifier_pca = SVC(kernel='linear')  # You can adjust the kernel as needed\n",
        "  svm_classifier_pca.fit(X_train_tfidf_pca, y_train)\n",
        "  joblib.dump(svm_classifier_pca,PROJECT_FOLDER + \"classifiers/svm_classifier_pca500\")\n",
        "\n",
        "# Predictions on the validation set using PCA\n",
        "val_predictions_pca_svm = svm_classifier_pca.predict(X_val_tfidf_pca)\n",
        "\n",
        "# Evaluate the model with PCA-transformed features\n",
        "accuracy_pca_svm = accuracy_score(y_val, val_predictions_pca_svm)\n",
        "print(\"SVM + PCA Accuracy:\", accuracy_pca_svm)\n",
        "print(\"\\nClassification Report (PCA):\")\n",
        "print(classification_report(y_val, val_predictions_pca_svm))\n"
      ]
    },
    {
      "cell_type": "markdown",
      "source": [
        "#### SVM con rbf kernel"
      ],
      "metadata": {
        "id": "Al_OxNZq1MxM"
      }
    },
    {
      "cell_type": "markdown",
      "source": [
        "Con Kernel rbf le prestazioni del modello aumentano ulteriormente, superando quelle di linear regression."
      ],
      "metadata": {
        "id": "VLxV-4GNnpQm"
      }
    },
    {
      "cell_type": "code",
      "source": [
        "from sklearn.svm import SVC\n",
        "from sklearn.decomposition import PCA\n",
        "from sklearn.feature_extraction.text import TfidfVectorizer\n",
        "from sklearn.model_selection import train_test_split\n",
        "from sklearn.metrics import accuracy_score, classification_report\n",
        "import joblib\n",
        "import pandas as pd\n",
        "\n",
        "# Choose the number of components you want after PCA\n",
        "num_components = 500\n",
        "\n",
        "\n",
        "# Apply PCA\n",
        "pca = PCA(n_components=num_components)\n",
        "X_train_tfidf_pca = pca.fit_transform(X_train_tfidf.toarray())\n",
        "X_val_tfidf_pca = pca.transform(X_val_tfidf.toarray())\n",
        "\n",
        "# Train SVM classifier on the PCA-transformed features with an RBF kernel\n",
        "try: svm_classifier_pca = joblib.load(PROJECT_FOLDER + \"classifiers/svm_classifier_pca500_rbf\")\n",
        "except:\n",
        "  svm_classifier_pca = SVC(kernel='rbf')  # Use 'rbf' for non-linear kernel\n",
        "  svm_classifier_pca.fit(X_train_tfidf_pca, y_train)\n",
        "  joblib.dump(svm_classifier_pca, PROJECT_FOLDER + \"classifiers/svm_classifier_pca500_rbf\")\n",
        "\n",
        "# Predictions on the validation set using PCA\n",
        "val_predictions_pca_svm = svm_classifier_pca.predict(X_val_tfidf_pca)\n",
        "\n",
        "# Evaluate the model with PCA-transformed features\n",
        "accuracy_pca_svm = accuracy_score(y_val, val_predictions_pca_svm)\n",
        "print(\"SVM + PCA Accuracy:\", accuracy_pca_svm)\n",
        "print(\"\\nClassification Report (PCA):\")\n",
        "print(classification_report(y_val, val_predictions_pca_svm))\n"
      ],
      "metadata": {
        "colab": {
          "base_uri": "https://localhost:8080/"
        },
        "id": "FbRIl0LWJEPQ",
        "outputId": "7fbb6adc-a180-4cb9-9557-cfd86ea5e131"
      },
      "execution_count": 60,
      "outputs": [
        {
          "output_type": "stream",
          "name": "stdout",
          "text": [
            "SVM + PCA Accuracy: 0.9536761053154496\n",
            "\n",
            "Classification Report (PCA):\n",
            "              precision    recall  f1-score   support\n",
            "\n",
            "           1       0.98      0.96      0.97       135\n",
            "           2       0.98      0.89      0.94        57\n",
            "           3       1.00      0.82      0.90        39\n",
            "           4       0.82      0.84      0.83       230\n",
            "           6       0.96      0.82      0.89        62\n",
            "           8       0.94      0.98      0.96      1049\n",
            "           9       0.98      0.97      0.97       161\n",
            "          10       0.98      0.96      0.97       132\n",
            "          11       0.98      0.79      0.88        53\n",
            "          12       0.95      0.95      0.95        88\n",
            "          13       0.97      0.92      0.94        74\n",
            "          14       0.98      0.98      0.98       386\n",
            "          15       0.98      0.98      0.98       223\n",
            "          16       0.94      0.73      0.82        22\n",
            "          17       0.96      0.93      0.94       107\n",
            "          18       0.95      0.96      0.96       149\n",
            "          19       0.94      0.97      0.95       233\n",
            "          20       0.96      0.97      0.97        76\n",
            "          21       0.94      0.97      0.95       327\n",
            "          22       0.99      0.90      0.94        84\n",
            "          23       0.95      0.86      0.90        70\n",
            "          24       0.94      0.83      0.88        41\n",
            "          25       0.92      0.95      0.93       173\n",
            "          26       0.99      1.00      0.99       669\n",
            "          27       0.98      0.84      0.91        51\n",
            "          28       0.99      0.96      0.97       135\n",
            "          29       0.99      0.95      0.97       106\n",
            "          30       0.90      0.96      0.93       144\n",
            "          32       0.97      0.94      0.96       106\n",
            "          33       0.96      0.98      0.97       247\n",
            "          34       1.00      0.86      0.93        79\n",
            "          35       0.94      0.90      0.92        81\n",
            "          36       0.99      0.95      0.97        96\n",
            "          37       0.88      0.95      0.91       347\n",
            "          38       0.96      0.93      0.95       176\n",
            "          39       0.98      0.94      0.96       331\n",
            "          40       0.95      0.97      0.96        60\n",
            "          41       0.93      0.93      0.93       123\n",
            "          42       1.00      0.99      1.00       166\n",
            "          43       0.97      0.98      0.97       209\n",
            "          44       1.00      0.93      0.96        67\n",
            "          45       0.95      0.96      0.96       389\n",
            "          46       0.99      0.95      0.97        85\n",
            "          48       0.94      0.96      0.95       266\n",
            "          50       0.96      0.93      0.95       148\n",
            "\n",
            "    accuracy                           0.95      8052\n",
            "   macro avg       0.96      0.93      0.94      8052\n",
            "weighted avg       0.95      0.95      0.95      8052\n",
            "\n"
          ]
        }
      ]
    },
    {
      "cell_type": "markdown",
      "source": [
        "#### SVM con poly kernel"
      ],
      "metadata": {
        "id": "-uKNrdeQ1SIb"
      }
    },
    {
      "cell_type": "markdown",
      "source": [
        "Con un Kernel polinomiale, invece le prestazioni diminuiscono, sia rispetto al kernel rbf, ma anche rispetto al kernel lineare."
      ],
      "metadata": {
        "id": "Hz4TZVxIn0VH"
      }
    },
    {
      "cell_type": "code",
      "source": [
        "\n",
        "\n",
        "# Choose the number of components you want after PCA\n",
        "num_components = 500\n",
        "# Apply PCA\n",
        "pca = PCA(n_components=num_components)\n",
        "X_train_tfidf_pca = pca.fit_transform(X_train_tfidf.toarray())\n",
        "X_val_tfidf_pca = pca.transform(X_val_tfidf.toarray())\n",
        "\n",
        "# Train SVM classifier on the PCA-transformed features with a polynomial kernel\n",
        "try: svm_classifier_pca = joblib.load(PROJECT_FOLDER + \"classifiers/svm_classifier_pca500_poly\")\n",
        "except:\n",
        "  svm_classifier_pca = SVC(kernel='poly')  # Use 'poly' for polynomial kernel\n",
        "  svm_classifier_pca.fit(X_train_tfidf_pca, y_train)\n",
        "  joblib.dump(svm_classifier_pca, PROJECT_FOLDER + \"classifiers/svm_classifier_pca500_poly\")\n",
        "\n",
        "# Predictions on the validation set using PCA\n",
        "val_predictions_pca_svm = svm_classifier_pca.predict(X_val_tfidf_pca)\n",
        "\n",
        "# Evaluate the model with PCA-transformed features\n",
        "accuracy_pca_svm = accuracy_score(y_val, val_predictions_pca_svm)\n",
        "print(\"SVM + PCA Accuracy:\", accuracy_pca_svm)\n",
        "print(\"\\nClassification Report (PCA):\")\n",
        "print(classification_report(y_val, val_predictions_pca_svm))\n"
      ],
      "metadata": {
        "id": "yida5_uVNT3I",
        "colab": {
          "base_uri": "https://localhost:8080/"
        },
        "outputId": "4aca76d6-7f78-413f-d1bb-0ba92346e9d4"
      },
      "execution_count": 61,
      "outputs": [
        {
          "output_type": "stream",
          "name": "stdout",
          "text": [
            "SVM + PCA Accuracy: 0.7450322901142573\n",
            "\n",
            "Classification Report (PCA):\n",
            "              precision    recall  f1-score   support\n",
            "\n",
            "           1       0.94      0.47      0.63       135\n",
            "           2       1.00      0.19      0.32        57\n",
            "           3       1.00      0.49      0.66        39\n",
            "           4       0.93      0.58      0.71       230\n",
            "           6       0.95      0.32      0.48        62\n",
            "           8       0.36      0.99      0.53      1049\n",
            "           9       0.97      0.53      0.69       161\n",
            "          10       1.00      0.72      0.84       132\n",
            "          11       1.00      0.62      0.77        53\n",
            "          12       0.95      0.65      0.77        88\n",
            "          13       1.00      0.57      0.72        74\n",
            "          14       0.98      0.84      0.91       386\n",
            "          15       0.99      0.74      0.85       223\n",
            "          16       0.00      0.00      0.00        22\n",
            "          17       0.96      0.47      0.63       107\n",
            "          18       0.99      0.62      0.76       149\n",
            "          19       0.98      0.85      0.91       233\n",
            "          20       0.98      0.75      0.85        76\n",
            "          21       0.98      0.84      0.91       327\n",
            "          22       1.00      0.57      0.73        84\n",
            "          23       0.94      0.44      0.60        70\n",
            "          24       0.96      0.59      0.73        41\n",
            "          25       0.97      0.45      0.61       173\n",
            "          26       0.99      1.00      0.99       669\n",
            "          27       0.95      0.35      0.51        51\n",
            "          28       0.97      0.86      0.91       135\n",
            "          29       1.00      0.68      0.81       106\n",
            "          30       0.94      0.68      0.79       144\n",
            "          32       0.90      0.54      0.67       106\n",
            "          33       0.97      0.73      0.83       247\n",
            "          34       1.00      0.65      0.78        79\n",
            "          35       1.00      0.30      0.46        81\n",
            "          36       0.99      0.73      0.84        96\n",
            "          37       0.81      0.86      0.83       347\n",
            "          38       0.97      0.67      0.79       176\n",
            "          39       1.00      0.86      0.93       331\n",
            "          40       0.97      0.53      0.69        60\n",
            "          41       0.96      0.54      0.69       123\n",
            "          42       1.00      0.87      0.93       166\n",
            "          43       0.95      0.60      0.74       209\n",
            "          44       0.95      0.30      0.45        67\n",
            "          45       0.93      0.75      0.83       389\n",
            "          46       1.00      0.44      0.61        85\n",
            "          48       0.97      0.76      0.85       266\n",
            "          50       0.99      0.56      0.72       148\n",
            "\n",
            "    accuracy                           0.75      8052\n",
            "   macro avg       0.93      0.61      0.72      8052\n",
            "weighted avg       0.88      0.75      0.77      8052\n",
            "\n"
          ]
        },
        {
          "output_type": "stream",
          "name": "stderr",
          "text": [
            "/usr/local/lib/python3.10/dist-packages/sklearn/metrics/_classification.py:1344: UndefinedMetricWarning: Precision and F-score are ill-defined and being set to 0.0 in labels with no predicted samples. Use `zero_division` parameter to control this behavior.\n",
            "  _warn_prf(average, modifier, msg_start, len(result))\n",
            "/usr/local/lib/python3.10/dist-packages/sklearn/metrics/_classification.py:1344: UndefinedMetricWarning: Precision and F-score are ill-defined and being set to 0.0 in labels with no predicted samples. Use `zero_division` parameter to control this behavior.\n",
            "  _warn_prf(average, modifier, msg_start, len(result))\n",
            "/usr/local/lib/python3.10/dist-packages/sklearn/metrics/_classification.py:1344: UndefinedMetricWarning: Precision and F-score are ill-defined and being set to 0.0 in labels with no predicted samples. Use `zero_division` parameter to control this behavior.\n",
            "  _warn_prf(average, modifier, msg_start, len(result))\n"
          ]
        }
      ]
    },
    {
      "cell_type": "markdown",
      "source": [
        "### Decision Trees + Adaboost"
      ],
      "metadata": {
        "id": "H7StyDG26e-F"
      }
    },
    {
      "cell_type": "markdown",
      "source": [
        "Adaboost, acronimo di \"Adaptive Boosting\", è un algoritmo di boosting utilizzato per migliorare le prestazioni di modelli di machine learning più deboli. Nel contesto di Adaboost con decision tree, vengono utilizzati alberi decisionali deboli come modelli di base. Un albero decisionale debole è un albero poco profondo che produce predizioni leggermente migliori di una previsione casuale.\n",
        "\n",
        "Adaboost funziona iterativamente assegnando pesi diversi agli errori dei modelli precedenti e aggiornando successivamente il modello per porre maggiore enfasi sugli esempi classificati erroneamente. L'output finale di Adaboost è una combinazione pesata di tutti i modelli deboli, dove i pesi sono assegnati in base alle loro prestazioni.\n",
        "\n",
        "In questo caso i risultati ottenuti sono molto deludenti (meno del 50%)."
      ],
      "metadata": {
        "id": "_HfVqD_avLHz"
      }
    },
    {
      "cell_type": "code",
      "source": [
        "from sklearn.tree import DecisionTreeClassifier\n",
        "from sklearn.ensemble import AdaBoostClassifier\n",
        "\n",
        "# Initialize AdaBoost with Decision Tree as the base estimator\n",
        "adaboost_classifier_tfidf_tree = AdaBoostClassifier(\n",
        "    base_estimator=DecisionTreeClassifier(),  # You can adjust the max_depth parameter\n",
        "    n_estimators=50,  # You can adjust the number of weak learners\n",
        "    random_state=42\n",
        ")\n",
        "\n",
        "# Fit the AdaBoost model with Decision Tree base estimator\n",
        "adaboost_classifier_tfidf_tree.fit(X_train_tfidf, y_train)\n",
        "\n",
        "# Predictions on the validation set using AdaBoost\n",
        "test_predictions_adaboost_tree = adaboost_classifier_tfidf_tree.predict(X_test_tfidf)\n",
        "\n",
        "# Evaluate the AdaBoost model with Decision Tree base estimator\n",
        "accuracy_adaboost_tree = accuracy_score(y_test, test_predictions_adaboost_tree)\n",
        "print(\"AdaBoost + Decision Tree + TF-IDF Accuracy:\", accuracy_adaboost_tree)\n",
        "print(\"\\nClassification Report (TF-IDF):\")\n",
        "print(classification_report(y_test, test_predictions_adaboost_tree))\n"
      ],
      "metadata": {
        "id": "ST4f4hFf6kHn",
        "outputId": "6439183f-4898-4057-887e-2998698b688f",
        "colab": {
          "base_uri": "https://localhost:8080/"
        }
      },
      "execution_count": 64,
      "outputs": [
        {
          "output_type": "stream",
          "name": "stderr",
          "text": [
            "/usr/local/lib/python3.10/dist-packages/sklearn/ensemble/_base.py:166: FutureWarning: `base_estimator` was renamed to `estimator` in version 1.2 and will be removed in 1.4.\n",
            "  warnings.warn(\n"
          ]
        },
        {
          "output_type": "stream",
          "name": "stdout",
          "text": [
            "AdaBoost + Decision Tree + TF-IDF Accuracy: 0.46398410332836565\n",
            "\n",
            "Classification Report (TF-IDF):\n",
            "              precision    recall  f1-score   support\n",
            "\n",
            "           1       0.26      0.23      0.24       151\n",
            "           2       0.12      0.12      0.12        64\n",
            "           3       0.19      0.24      0.21        34\n",
            "           4       0.24      0.28      0.26       206\n",
            "           6       0.20      0.16      0.18        67\n",
            "           8       0.59      0.61      0.60      1061\n",
            "           9       0.28      0.29      0.29       161\n",
            "          10       0.41      0.46      0.44        99\n",
            "          11       0.39      0.38      0.39        58\n",
            "          12       0.24      0.18      0.20       107\n",
            "          13       0.35      0.36      0.36        72\n",
            "          14       0.52      0.54      0.53       422\n",
            "          15       0.33      0.33      0.33       212\n",
            "          16       0.03      0.04      0.04        26\n",
            "          17       0.17      0.14      0.15        93\n",
            "          18       0.34      0.33      0.33       170\n",
            "          19       0.61      0.54      0.57       222\n",
            "          20       0.52      0.56      0.53        90\n",
            "          21       0.55      0.53      0.54       334\n",
            "          22       0.29      0.31      0.30        75\n",
            "          23       0.34      0.39      0.36        67\n",
            "          24       0.42      0.48      0.45        62\n",
            "          25       0.19      0.17      0.18       161\n",
            "          26       0.76      0.81      0.78       636\n",
            "          27       0.33      0.40      0.36        43\n",
            "          28       0.68      0.72      0.70       134\n",
            "          29       0.40      0.37      0.39        94\n",
            "          30       0.26      0.24      0.25       149\n",
            "          32       0.30      0.27      0.28       116\n",
            "          33       0.33      0.30      0.31       266\n",
            "          34       0.55      0.55      0.55        73\n",
            "          35       0.24      0.25      0.25       103\n",
            "          36       0.55      0.43      0.49        99\n",
            "          37       0.51      0.58      0.54       345\n",
            "          38       0.48      0.44      0.46       186\n",
            "          39       0.56      0.63      0.60       316\n",
            "          40       0.27      0.28      0.28        71\n",
            "          41       0.25      0.20      0.22       143\n",
            "          42       0.51      0.55      0.53       137\n",
            "          43       0.37      0.35      0.36       194\n",
            "          44       0.12      0.10      0.11        81\n",
            "          45       0.50      0.44      0.47       337\n",
            "          46       0.30      0.33      0.31        92\n",
            "          48       0.62      0.59      0.60       288\n",
            "          50       0.34      0.32      0.33       135\n",
            "\n",
            "    accuracy                           0.46      8052\n",
            "   macro avg       0.37      0.37      0.37      8052\n",
            "weighted avg       0.46      0.46      0.46      8052\n",
            "\n"
          ]
        }
      ]
    },
    {
      "cell_type": "markdown",
      "source": [
        "## Parameter Tuning e test del modello migliore\n",
        "Il parameter tuning, o ottimizzazione dei parametri, è il processo di selezione dei valori migliori per i parametri di un modello di apprendimento automatico al fine di massimizzare le prestazioni del modello su un insieme di dati specifico. L'obiettivo è trovare la configurazione dei parametri che massimizzi l'accuratezza o altre metriche di valutazione del modello.\n",
        "\n",
        "Nel nostro caso faremo tning dei parametri dei modelli che hanno dato risultati migliori in fase di valutazione. Eseguiremo il tuning sui dati dello split \"eval\" ed infine testeremo sullo split \"test\" i modelli con parametri ottimali."
      ],
      "metadata": {
        "id": "9TLi7YcxTVl6"
      }
    },
    {
      "cell_type": "markdown",
      "source": [
        "### KNN k parameter tuning"
      ],
      "metadata": {
        "id": "US9Toc_ETiNX"
      }
    },
    {
      "cell_type": "markdown",
      "source": [
        "Il modello KNN presenta il parametro k.\n",
        "Il parametro \"k\" in KNN (K-Nearest Neighbors) rappresenta il numero di vicini più prossimi che vengono considerati quando si prende una decisione sulla classe di un punto dati. In altre parole, k indica quanti punti più vicini vengono presi in considerazione per determinare la classe di un nuovo punto."
      ],
      "metadata": {
        "id": "M0upLyarqIwp"
      }
    },
    {
      "cell_type": "code",
      "source": [
        "from sklearn.neighbors import KNeighborsClassifier\n",
        "\n",
        "X_test_tfidf_pca = pca.transform(X_test_tfidf.toarray())\n",
        "\n",
        "\n",
        "max_accuracy=0\n",
        "best_k_param=0\n",
        "for i in [1,2,3,4,5,6,7,8,9,10,11,12]:\n",
        "  print(\"addestramento con k=\"+str(i))\n",
        "# Train k-NN classifier on the PCA-transformed features\n",
        "  knn_classifier_pca = KNeighborsClassifier(n_neighbors=i)  # You can adjust the number of neighbors (n_neighbors) as needed\n",
        "  knn_classifier_pca.fit(X_train_tfidf_pca, y_train)\n",
        "\n",
        "# Predictions on the validation set using PCA\n",
        "  val_predictions_pca = knn_classifier_pca.predict(X_val_tfidf_pca)\n",
        "\n",
        "# Evaluate the model with PCA-transformed features\n",
        "  accuracy_pca = accuracy_score(y_val, val_predictions_pca)\n",
        "  print(\"k-NN + PCA Accuracy:\", accuracy_pca)\n",
        "  if max_accuracy < accuracy_pca_svm:\n",
        "    max_accuracy=accuracy_pca_svm\n",
        "    best_k_param=i\n",
        "\n"
      ],
      "metadata": {
        "colab": {
          "base_uri": "https://localhost:8080/"
        },
        "id": "-XkAXEaEToax",
        "outputId": "d76b2857-8291-41cf-cb19-2d8e6df4c05b"
      },
      "execution_count": null,
      "outputs": [
        {
          "output_type": "stream",
          "name": "stdout",
          "text": [
            "addestramento con k=1\n",
            "k-NN + PCA Accuracy: 0.8813959264778937\n",
            "addestramento con k=2\n",
            "k-NN + PCA Accuracy: 0.8497267759562842\n",
            "addestramento con k=3\n",
            "k-NN + PCA Accuracy: 0.8668653750620964\n",
            "addestramento con k=4\n",
            "k-NN + PCA Accuracy: 0.870963735717834\n",
            "addestramento con k=5\n",
            "k-NN + PCA Accuracy: 0.8723298559364133\n",
            "addestramento con k=6\n",
            "k-NN + PCA Accuracy: 0.8719572776949827\n",
            "addestramento con k=7\n",
            "k-NN + PCA Accuracy: 0.8703427719821163\n",
            "addestramento con k=8\n",
            "k-NN + PCA Accuracy: 0.8683556880278192\n",
            "addestramento con k=9\n",
            "k-NN + PCA Accuracy: 0.8676105315449578\n",
            "addestramento con k=10\n",
            "k-NN + PCA Accuracy: 0.8693492300049677\n",
            "addestramento con k=11\n",
            "k-NN + PCA Accuracy: 0.8674863387978142\n",
            "addestramento con k=12\n",
            "k-NN + PCA Accuracy: 0.8640089418777943\n"
          ]
        }
      ]
    },
    {
      "cell_type": "markdown",
      "source": [
        "Dunque il valore ottimale del parametro k risulta essere 1."
      ],
      "metadata": {
        "id": "eVbzvC3XozXl"
      }
    },
    {
      "cell_type": "code",
      "source": [
        "\n",
        "# Train k-NN classifier on the PCA-transformed features\n",
        "knn_classifier_pca = KNeighborsClassifier(n_neighbors=1)  # You can adjust the number of neighbors (n_neighbors) as needed\n",
        "knn_classifier_pca.fit(X_train_tfidf_pca, y_train)\n",
        "\n",
        "# Predictions on the validation set using PCA\n",
        "test_predictions_pca = knn_classifier_pca.predict(X_test_tfidf_pca)\n",
        "\n",
        "# Evaluate the model with PCA-transformed features\n",
        "accuracy_pca = accuracy_score(y_test, test_predictions_pca)\n",
        "print(\"k-NN + PCA Accuracy:\", accuracy_pca)\n",
        "print(\"\\nClassification Report (PCA):\")\n",
        "print(classification_report(y_test, test_predictions_pca))"
      ],
      "metadata": {
        "colab": {
          "base_uri": "https://localhost:8080/"
        },
        "id": "-aXRrhY2EChJ",
        "outputId": "0e1e653f-bf60-4afb-9fc1-6eb54a91c323"
      },
      "execution_count": null,
      "outputs": [
        {
          "output_type": "stream",
          "name": "stdout",
          "text": [
            "k-NN + PCA Accuracy: 0.8813959264778937\n",
            "\n",
            "Classification Report (PCA):\n",
            "              precision    recall  f1-score   support\n",
            "\n",
            "           1       0.94      0.87      0.90       151\n",
            "           2       0.89      0.61      0.72        64\n",
            "           3       0.86      0.91      0.89        34\n",
            "           4       0.84      0.71      0.77       206\n",
            "           6       0.88      0.75      0.81        67\n",
            "           8       0.93      0.93      0.93      1061\n",
            "           9       0.90      0.80      0.84       161\n",
            "          10       0.92      0.98      0.95        99\n",
            "          11       0.98      0.86      0.92        58\n",
            "          12       0.94      0.93      0.94       107\n",
            "          13       0.91      0.89      0.90        72\n",
            "          14       0.93      0.93      0.93       422\n",
            "          15       0.96      0.84      0.89       212\n",
            "          16       0.79      0.58      0.67        26\n",
            "          17       0.88      0.73      0.80        93\n",
            "          18       0.85      0.79      0.82       170\n",
            "          19       0.73      0.92      0.82       222\n",
            "          20       0.93      0.89      0.91        90\n",
            "          21       0.94      0.88      0.91       334\n",
            "          22       0.82      0.91      0.86        75\n",
            "          23       0.23      0.90      0.37        67\n",
            "          24       0.89      0.87      0.88        62\n",
            "          25       0.86      0.78      0.81       161\n",
            "          26       0.99      1.00      0.99       636\n",
            "          27       0.54      0.81      0.65        43\n",
            "          28       0.94      0.92      0.93       134\n",
            "          29       0.85      0.91      0.88        94\n",
            "          30       0.98      0.77      0.86       149\n",
            "          32       0.88      0.90      0.89       116\n",
            "          33       0.91      0.90      0.91       266\n",
            "          34       0.90      0.74      0.81        73\n",
            "          35       0.75      0.77      0.76       103\n",
            "          36       0.98      0.90      0.94        99\n",
            "          37       0.89      0.86      0.87       345\n",
            "          38       0.86      0.86      0.86       186\n",
            "          39       0.92      0.95      0.94       316\n",
            "          40       0.97      0.89      0.93        71\n",
            "          41       0.83      0.85      0.84       143\n",
            "          42       0.98      0.98      0.98       137\n",
            "          43       0.91      0.85      0.88       194\n",
            "          44       0.75      0.81      0.78        81\n",
            "          45       0.90      0.89      0.90       337\n",
            "          46       0.88      0.70      0.78        92\n",
            "          48       0.91      0.90      0.90       288\n",
            "          50       0.83      0.86      0.84       135\n",
            "\n",
            "    accuracy                           0.88      8052\n",
            "   macro avg       0.87      0.85      0.85      8052\n",
            "weighted avg       0.90      0.88      0.89      8052\n",
            "\n"
          ]
        }
      ]
    },
    {
      "cell_type": "markdown",
      "source": [
        "Il modello KNN offre una performance ottima, ma nettamente inferiore a quella dei modelli che vedremo successivamente.\n",
        "Qui sotto viene rappresentata la confusion matrix riguardane l'utilizzo del modello sullo split \"test\"."
      ],
      "metadata": {
        "id": "LDscHJiPqiLY"
      }
    },
    {
      "cell_type": "code",
      "source": [
        "from sklearn.metrics import confusion_matrix\n",
        "import seaborn as sns\n",
        "import matplotlib.pyplot as plt\n",
        "\n",
        "class_names=y_test.unique()\n",
        "\n",
        "\n",
        "# Predictions on the test set using PCA\n",
        "test_predictions_pca = knn_classifier_pca.predict(X_test_tfidf_pca)\n",
        "\n",
        "# Confusion Matrix\n",
        "conf_matrix = confusion_matrix(y_test, test_predictions_pca)\n",
        "\n",
        "# Set figure size based on the number of classes\n",
        "fig, ax = plt.subplots(figsize=(15, 12))\n",
        "sns.heatmap(conf_matrix, annot=True, fmt='d', cmap='Blues', xticklabels=class_names, yticklabels=class_names, ax=ax)\n",
        "plt.title('Confusion Matrix (k-NN + PCA)')\n",
        "plt.xlabel('Predicted')\n",
        "plt.ylabel('Actual')\n",
        "\n",
        "# Save the plot as an image\n",
        "plt.savefig(PROJECT_FOLDER+'confusion_matrices/confusion_matrix_knn.png')\n",
        "\n",
        "# Open the saved image file\n",
        "import webbrowser\n",
        "webbrowser.open(PROJECT_FOLDER+'confusion_matrices/confusion_matrix_knn.png')\n"
      ],
      "metadata": {
        "colab": {
          "base_uri": "https://localhost:8080/"
        },
        "id": "YgLWGxtIUvQ1",
        "outputId": "b8b5f0aa-3458-4c8d-bf21-c35d74ee0f2d"
      },
      "execution_count": null,
      "outputs": [
        {
          "output_type": "execute_result",
          "data": {
            "text/plain": [
              "False"
            ]
          },
          "metadata": {},
          "execution_count": 32
        },
        {
          "output_type": "display_data",
          "data": {
            "text/plain": [
              "<Figure size 1500x1200 with 2 Axes>"
            ],
            "image/png": "[encoded data removed]"
          },
          "metadata": {}
        }
      ]
    },
    {
      "cell_type": "markdown",
      "source": [
        "### Parametro C su SVM\n",
        "\n",
        "Su SVM, oltre al kernel, il parametro di riferimento è il parametro \"C\".\n",
        "\"C\" in SVM è un parametro di regolarizzazione che controlla il trade-off tra la complessità del modello e la precisione sulla fase di addestramento. Un valore più elevato di C permette al modello di adattarsi meglio ai dati di addestramento, ma potrebbe portare a un'iper-regolarizzazione. D'altro canto, un valore più basso di C favorisce una maggiore generalizzazione, ma potrebbe risultare in una minore precisione sui dati di addestramento.\n"
      ],
      "metadata": {
        "id": "edoF_QdU1G4w"
      }
    },
    {
      "cell_type": "code",
      "execution_count": null,
      "metadata": {
        "colab": {
          "base_uri": "https://localhost:8080/"
        },
        "id": "tOJqUdSFNB5E",
        "outputId": "2bcf767f-6b3d-4886-d1aa-d3df18b86041"
      },
      "outputs": [
        {
          "output_type": "stream",
          "name": "stdout",
          "text": [
            "addestramento kernel rdf, C=1\n",
            "SVM + PCA Accuracy: 0.9541728763040238\n",
            "addestramento kernel rdf, C=2\n",
            "SVM + PCA Accuracy: 0.9606308991554893\n",
            "addestramento kernel rdf, C=3\n",
            "SVM + PCA Accuracy: 0.96274217585693\n",
            "addestramento kernel rdf, C=4\n",
            "SVM + PCA Accuracy: 0.9623695976154992\n",
            "addestramento kernel rdf, C=5\n",
            "SVM + PCA Accuracy: 0.9623695976154992\n",
            "best C parameter is 3\n"
          ]
        }
      ],
      "source": [
        "\n",
        "\n",
        "max_accuracy=0\n",
        "best_C_param=0\n",
        "# Train SVM classifier on the PCA-transformed features with an RBF kernel\n",
        "for i in [1,2,3,4,5]:\n",
        "\n",
        "  print(\"addestramento kernel rdf, C=\"+str(i))\n",
        "  svm_classifier_pca = SVC(kernel='rbf',C=i)  # Use 'rbf' for non-linear kernel\n",
        "  svm_classifier_pca.fit(X_train_tfidf_pca, y_train)\n",
        "\n",
        "# Predictions on the validation set using PCA\n",
        "  val_predictions_pca_svm = svm_classifier_pca.predict(X_val_tfidf_pca)\n",
        "\n",
        "# Evaluate the model with PCA-transformed features\n",
        "  accuracy_pca_svm = accuracy_score(y_val, val_predictions_pca_svm)\n",
        "  print(\"SVM + PCA Accuracy:\", accuracy_pca_svm)\n",
        "  if max_accuracy < accuracy_pca_svm:\n",
        "    max_accuracy=accuracy_pca_svm\n",
        "    best_C_param=i\n",
        "\n",
        "\n",
        "print(f\"best C parameter is {best_C_param}\")"
      ]
    },
    {
      "cell_type": "markdown",
      "source": [
        "Una volta ottenuto il miglior valore per il parametro C, testiamo il modello sullo split \"test\"."
      ],
      "metadata": {
        "id": "VVvp2NNRrU0e"
      }
    },
    {
      "cell_type": "code",
      "source": [
        "# Apply PCA\n",
        "X_test_tfidf_pca = pca.transform(X_test_tfidf.toarray())\n",
        "\n",
        "svm_classifier_pca = SVC(kernel='rbf',C=3)  # Use 'rbf' for non-linear kernel\n",
        "svm_classifier_pca.fit(X_train_tfidf_pca, y_train)\n",
        "\n",
        "# Predictions on the validation set using PCA\n",
        "test_predictions_pca_svm = svm_classifier_pca.predict(X_test_tfidf_pca)\n",
        "\n",
        "# Evaluate the model with PCA-transformed features\n",
        "accuracy_pca_svm = accuracy_score(y_test, test_predictions_pca_svm)\n",
        "print(\"SVM + PCA Accuracy:\", accuracy_pca_svm)\n",
        "print(\"\\nClassification Report (PCA):\")\n",
        "print(classification_report(y_test, test_predictions_pca_svm))"
      ],
      "metadata": {
        "colab": {
          "base_uri": "https://localhost:8080/"
        },
        "id": "2mjTphfvr7mM",
        "outputId": "e7e619c6-f685-44e1-9ffc-08811996440f"
      },
      "execution_count": null,
      "outputs": [
        {
          "output_type": "stream",
          "name": "stdout",
          "text": [
            "SVM + PCA Accuracy: 0.960134128166915\n",
            "\n",
            "Classification Report (PCA):\n",
            "              precision    recall  f1-score   support\n",
            "\n",
            "           1       0.99      0.98      0.99       151\n",
            "           2       0.98      0.94      0.96        64\n",
            "           3       0.97      0.91      0.94        34\n",
            "           4       0.87      0.84      0.86       206\n",
            "           6       0.97      0.94      0.95        67\n",
            "           8       0.95      0.98      0.96      1061\n",
            "           9       0.98      0.96      0.97       161\n",
            "          10       1.00      0.97      0.98        99\n",
            "          11       0.96      0.95      0.96        58\n",
            "          12       0.98      0.94      0.96       107\n",
            "          13       0.97      0.94      0.96        72\n",
            "          14       0.99      0.98      0.99       422\n",
            "          15       0.98      0.98      0.98       212\n",
            "          16       0.95      0.81      0.88        26\n",
            "          17       0.93      0.92      0.93        93\n",
            "          18       0.93      0.96      0.95       170\n",
            "          19       0.95      0.95      0.95       222\n",
            "          20       0.96      0.99      0.97        90\n",
            "          21       0.97      0.96      0.97       334\n",
            "          22       0.99      1.00      0.99        75\n",
            "          23       0.92      0.88      0.90        67\n",
            "          24       0.98      0.95      0.97        62\n",
            "          25       0.94      0.96      0.95       161\n",
            "          26       0.99      1.00      0.99       636\n",
            "          27       0.95      0.91      0.93        43\n",
            "          28       0.98      0.96      0.97       134\n",
            "          29       0.94      0.94      0.94        94\n",
            "          30       0.95      0.99      0.97       149\n",
            "          32       0.99      0.95      0.97       116\n",
            "          33       0.95      0.99      0.97       266\n",
            "          34       0.97      0.84      0.90        73\n",
            "          35       0.93      0.91      0.92       103\n",
            "          36       1.00      0.93      0.96        99\n",
            "          37       0.90      0.97      0.93       345\n",
            "          38       0.94      0.94      0.94       186\n",
            "          39       0.98      0.96      0.97       316\n",
            "          40       1.00      0.96      0.98        71\n",
            "          41       0.92      0.95      0.93       143\n",
            "          42       0.97      1.00      0.99       137\n",
            "          43       0.98      0.98      0.98       194\n",
            "          44       0.96      0.90      0.93        81\n",
            "          45       0.95      0.97      0.96       337\n",
            "          46       1.00      0.91      0.95        92\n",
            "          48       0.97      0.94      0.95       288\n",
            "          50       0.95      0.94      0.95       135\n",
            "\n",
            "    accuracy                           0.96      8052\n",
            "   macro avg       0.96      0.95      0.95      8052\n",
            "weighted avg       0.96      0.96      0.96      8052\n",
            "\n"
          ]
        }
      ]
    },
    {
      "cell_type": "markdown",
      "source": [
        "Questo è il miglior risultato ottenuto finora. Qui sotto la confusion matrix dell'applicazione del modello sullo split \"test\" di dati."
      ],
      "metadata": {
        "id": "m-bRIcnyrzFw"
      }
    },
    {
      "cell_type": "code",
      "source": [
        "from sklearn.metrics import confusion_matrix\n",
        "import seaborn as sns\n",
        "import matplotlib.pyplot as plt\n",
        "import seaborn as sns\n",
        "import matplotlib.pyplot as plt\n",
        "class_names=y_test.unique()\n",
        "\n",
        "# Confusion Matrix\n",
        "conf_matrix = confusion_matrix(y_test, test_predictions_pca_svm)\n",
        "\n",
        "# Set figure size based on the number of classes\n",
        "fig, ax = plt.subplots(figsize=(15, 12))\n",
        "sns.heatmap(conf_matrix, annot=True, fmt='d', cmap='Blues', xticklabels=class_names, yticklabels=class_names, ax=ax)\n",
        "plt.title('Confusion Matrix')\n",
        "plt.xlabel('Predicted')\n",
        "plt.ylabel('Actual')\n",
        "\n",
        "# Save the plot as an image\n",
        "plt.savefig(PROJECT_FOLDER+'confusion_matrices/confusion_matrix_SVM.png')\n",
        "\n",
        "# Open the saved image file\n",
        "import webbrowser\n",
        "webbrowser.open(PROJECT_FOLDER+'confusion_matrices/confusion_matrix_SVM.png')\n",
        "\n"
      ],
      "metadata": {
        "colab": {
          "base_uri": "https://localhost:8080/"
        },
        "id": "gwBrgZOXRvUz",
        "outputId": "87270df4-c651-404a-b05a-71d47d5abd67"
      },
      "execution_count": null,
      "outputs": [
        {
          "output_type": "execute_result",
          "data": {
            "text/plain": [
              "False"
            ]
          },
          "metadata": {},
          "execution_count": 30
        },
        {
          "output_type": "display_data",
          "data": {
            "text/plain": [
              "<Figure size 1500x1200 with 2 Axes>"
            ],
            "image/png": "[encoded data removed]"
          },
          "metadata": {}
        }
      ]
    },
    {
      "cell_type": "markdown",
      "metadata": {
        "id": "8u0dNvUqnn4z"
      },
      "source": [
        "gradient boost adaboost random forests."
      ]
    },
    {
      "cell_type": "markdown",
      "source": [
        "### Logistic regression"
      ],
      "metadata": {
        "id": "oStFmMWTE5lb"
      }
    },
    {
      "cell_type": "markdown",
      "source": [
        "Per linear regression i parametri sono: C, penalty values e max_iter.\n",
        "\n",
        "Il modello di logistic regression ha diversi iperparametri che possono essere soggetti a tuning per ottimizzare le prestazioni. Alcuni dei principali iperparametri includono:\n",
        "\n",
        "1. **C**: Parametro di regolarizzazione, che controlla l'inversione della matrice dei coefficienti. Valori più alti di C portano a una regolarizzazione più debole.\n",
        "\n",
        "2. **penalty**: Specifica il tipo di regolarizzazione da applicare.\n",
        "\n",
        "3. **max_iter**: Numero massimo di iterazioni per la convergenza del solver.\n",
        "\n"
      ],
      "metadata": {
        "id": "4p9yJJiJs4RR"
      }
    },
    {
      "cell_type": "code",
      "source": [
        "from sklearn.linear_model import LogisticRegression\n",
        "from sklearn.metrics import accuracy_score, classification_report\n",
        "\n",
        "# Lista dei valori da esplorare per C, penalty e max_iter\n",
        "C_values = [0.01, 0.1, 1, 10, 100]\n",
        "penalty_values = ['l2']\n",
        "max_iter_values = [100, 500, 1000, 1500]\n",
        "\n",
        "best_accuracy = 0\n",
        "best_params = {}\n",
        "\n",
        "for C in C_values:\n",
        "    for penalty in penalty_values:\n",
        "        for max_iter in max_iter_values:\n",
        "            # Creazione del modello con i parametri correnti\n",
        "            logistic_regression_model = LogisticRegression(C=C, penalty=penalty, max_iter=max_iter)\n",
        "\n",
        "            # Addestramento del modello\n",
        "            logistic_regression_model.fit(X_train_tfidf, y_train)\n",
        "\n",
        "            # Previsioni sul set di eval\n",
        "            val_predictions_tfidf = logistic_regression_model.predict(X_val_tfidf)\n",
        "\n",
        "            # Calcolo dell'accuratezza\n",
        "            accuracy_tfidf = accuracy_score(y_val, val_predictions_tfidf)\n",
        "            print(f\"accuract of max_iter:{max_iter} C:{C} and penalty:{penalty} is {accuracy_tfidf}\")\n",
        "\n",
        "            # Aggiornamento dei migliori parametri se l'accuratezza è migliorata\n",
        "            if accuracy_tfidf > best_accuracy:\n",
        "                best_accuracy = accuracy_tfidf\n",
        "                best_params = {'C': C, 'penalty': penalty, 'max_iter': max_iter}\n",
        "\n",
        "# Stampa dei migliori parametri e accuratezza\n",
        "print(\"Migliori parametri:\", best_params)\n",
        "print(\"Logistic Regression + TF-IDF Accuracy:\", best_accuracy)\n"
      ],
      "metadata": {
        "colab": {
          "base_uri": "https://localhost:8080/"
        },
        "id": "qeuyOqMBs1u0",
        "outputId": "488b8866-effe-4970-82f8-c5b6547e7d7a"
      },
      "execution_count": 70,
      "outputs": [
        {
          "output_type": "stream",
          "name": "stdout",
          "text": [
            "accuract of max_iter:100 C:0.01 and penalty:l2 is 0.24826130153999007\n",
            "accuract of max_iter:500 C:0.01 and penalty:l2 is 0.24826130153999007\n",
            "accuract of max_iter:1000 C:0.01 and penalty:l2 is 0.24826130153999007\n",
            "accuract of max_iter:1500 C:0.01 and penalty:l2 is 0.24826130153999007\n",
            "accuract of max_iter:100 C:0.1 and penalty:l2 is 0.6759811227024342\n",
            "accuract of max_iter:500 C:0.1 and penalty:l2 is 0.6759811227024342\n",
            "accuract of max_iter:1000 C:0.1 and penalty:l2 is 0.6759811227024342\n",
            "accuract of max_iter:1500 C:0.1 and penalty:l2 is 0.6759811227024342\n"
          ]
        },
        {
          "output_type": "stream",
          "name": "stderr",
          "text": [
            "/usr/local/lib/python3.10/dist-packages/sklearn/linear_model/_logistic.py:458: ConvergenceWarning: lbfgs failed to converge (status=1):\n",
            "STOP: TOTAL NO. of ITERATIONS REACHED LIMIT.\n",
            "\n",
            "Increase the number of iterations (max_iter) or scale the data as shown in:\n",
            "    https://scikit-learn.org/stable/modules/preprocessing.html\n",
            "Please also refer to the documentation for alternative solver options:\n",
            "    https://scikit-learn.org/stable/modules/linear_model.html#logistic-regression\n",
            "  n_iter_i = _check_optimize_result(\n"
          ]
        },
        {
          "output_type": "stream",
          "name": "stdout",
          "text": [
            "accuract of max_iter:100 C:1 and penalty:l2 is 0.9297069051167411\n",
            "accuract of max_iter:500 C:1 and penalty:l2 is 0.9298310978638847\n",
            "accuract of max_iter:1000 C:1 and penalty:l2 is 0.9298310978638847\n",
            "accuract of max_iter:1500 C:1 and penalty:l2 is 0.9298310978638847\n"
          ]
        },
        {
          "output_type": "stream",
          "name": "stderr",
          "text": [
            "/usr/local/lib/python3.10/dist-packages/sklearn/linear_model/_logistic.py:458: ConvergenceWarning: lbfgs failed to converge (status=1):\n",
            "STOP: TOTAL NO. of ITERATIONS REACHED LIMIT.\n",
            "\n",
            "Increase the number of iterations (max_iter) or scale the data as shown in:\n",
            "    https://scikit-learn.org/stable/modules/preprocessing.html\n",
            "Please also refer to the documentation for alternative solver options:\n",
            "    https://scikit-learn.org/stable/modules/linear_model.html#logistic-regression\n",
            "  n_iter_i = _check_optimize_result(\n"
          ]
        },
        {
          "output_type": "stream",
          "name": "stdout",
          "text": [
            "accuract of max_iter:100 C:10 and penalty:l2 is 0.9672131147540983\n",
            "accuract of max_iter:500 C:10 and penalty:l2 is 0.9665921510183805\n",
            "accuract of max_iter:1000 C:10 and penalty:l2 is 0.9665921510183805\n",
            "accuract of max_iter:1500 C:10 and penalty:l2 is 0.9665921510183805\n"
          ]
        },
        {
          "output_type": "stream",
          "name": "stderr",
          "text": [
            "/usr/local/lib/python3.10/dist-packages/sklearn/linear_model/_logistic.py:458: ConvergenceWarning: lbfgs failed to converge (status=1):\n",
            "STOP: TOTAL NO. of ITERATIONS REACHED LIMIT.\n",
            "\n",
            "Increase the number of iterations (max_iter) or scale the data as shown in:\n",
            "    https://scikit-learn.org/stable/modules/preprocessing.html\n",
            "Please also refer to the documentation for alternative solver options:\n",
            "    https://scikit-learn.org/stable/modules/linear_model.html#logistic-regression\n",
            "  n_iter_i = _check_optimize_result(\n"
          ]
        },
        {
          "output_type": "stream",
          "name": "stdout",
          "text": [
            "accuract of max_iter:100 C:100 and penalty:l2 is 0.970442126179831\n",
            "accuract of max_iter:500 C:100 and penalty:l2 is 0.9726775956284153\n",
            "accuract of max_iter:1000 C:100 and penalty:l2 is 0.9726775956284153\n",
            "accuract of max_iter:1500 C:100 and penalty:l2 is 0.9726775956284153\n",
            "Migliori parametri: {'C': 100, 'penalty': 'l2', 'max_iter': 500}\n",
            "Logistic Regression + TF-IDF Accuracy: 0.9726775956284153\n"
          ]
        }
      ]
    },
    {
      "cell_type": "markdown",
      "source": [
        "Il modello migliore si ottiene con un valore alto di C.\n",
        "C'è però da ricordare che in regressione logistica, il parametro `C` rappresenta l'inverso della forza di regolarizzazione. Un valore di `C` maggiore corrisponde a una regolarizzazione più debole.\n",
        "\n",
        "1. **`C` più Piccolo (Regolarizzazione Forte):** Un valore più piccolo di `C` applica una regolarizzazione più forte, tendendo a ridurre i coefficienti verso zero. Questo può contribuire a prevenire l'overfitting penalizzando i valori elevati dei coefficienti.\n",
        "\n",
        "2. **`C` più Grande (Regolarizzazione Debole):** Un valore più grande di `C` indica una regolarizzazione più debole. In questo caso, il modello è meno vincolato per quanto riguarda i coefficienti e potrebbe adattarsi più strettamente ai dati di addestramento. Questo può essere vantaggioso quando i dati di addestramento sono rumorosi o quando si desidera che il modello catturi pattern più complessi.\n",
        "\n",
        "La scelta del valore appropriato per `C` comporta un compromesso. Una regolarizzazione eccessiva (`C` troppo piccolo) può portare a un underfitting, mentre una regolarizzazione insufficiente (`C` troppo grande) può causare overfitting.\n",
        "\n",
        "Per questo conviene vedere come performa sui dati dello split \"test\", perchè ci potrebbe essere stato overfitting sui dati."
      ],
      "metadata": {
        "id": "f9JulQKm4pz2"
      }
    },
    {
      "cell_type": "code",
      "source": [
        "\n",
        "  # Train Logistic Regression classifier on TF-IDF vectors\n",
        "logistic_regression_classifier_tfidf = LogisticRegression(C=100,penalty='l2',max_iter=500)\n",
        "logistic_regression_classifier_tfidf.fit(X_train_tfidf, y_train)\n",
        "\n",
        "# Predictions on the validation set using TF-IDF\n",
        "test_predictions_tfidf = logistic_regression_classifier_tfidf.predict(X_test_tfidf)\n",
        "\n",
        "# Evaluate the TF-IDF model with Logistic Regression\n",
        "accuracy_tfidf = accuracy_score(y_test, test_predictions_tfidf)\n",
        "print(\"Logistic Regression + TF-IDF Accuracy:\", accuracy_tfidf)\n",
        "print(\"\\nClassification Report (TF-IDF):\")\n",
        "print(classification_report(y_test, test_predictions_tfidf))"
      ],
      "metadata": {
        "colab": {
          "base_uri": "https://localhost:8080/"
        },
        "id": "Mp6gJaGqE4hC",
        "outputId": "5683c247-278d-4d92-f574-d4914214cc54"
      },
      "execution_count": 72,
      "outputs": [
        {
          "output_type": "stream",
          "name": "stdout",
          "text": [
            "Logistic Regression + TF-IDF Accuracy: 0.9728017883755589\n",
            "\n",
            "Classification Report (TF-IDF):\n",
            "              precision    recall  f1-score   support\n",
            "\n",
            "           1       1.00      0.99      1.00       151\n",
            "           2       1.00      0.91      0.95        64\n",
            "           3       1.00      0.91      0.95        34\n",
            "           4       0.93      0.85      0.89       206\n",
            "           6       0.96      0.96      0.96        67\n",
            "           8       0.97      0.98      0.98      1061\n",
            "           9       0.98      0.99      0.98       161\n",
            "          10       0.99      0.98      0.98        99\n",
            "          11       0.98      0.95      0.96        58\n",
            "          12       1.00      0.96      0.98       107\n",
            "          13       1.00      0.99      0.99        72\n",
            "          14       0.98      0.99      0.99       422\n",
            "          15       0.97      1.00      0.98       212\n",
            "          16       0.93      0.96      0.94        26\n",
            "          17       0.98      0.96      0.97        93\n",
            "          18       0.96      0.99      0.97       170\n",
            "          19       0.96      0.98      0.97       222\n",
            "          20       0.99      1.00      0.99        90\n",
            "          21       0.97      0.97      0.97       334\n",
            "          22       1.00      1.00      1.00        75\n",
            "          23       0.98      0.93      0.95        67\n",
            "          24       0.97      0.98      0.98        62\n",
            "          25       0.97      0.97      0.97       161\n",
            "          26       0.98      1.00      0.99       636\n",
            "          27       0.98      0.98      0.98        43\n",
            "          28       0.97      0.98      0.97       134\n",
            "          29       0.97      0.96      0.96        94\n",
            "          30       0.97      0.99      0.98       149\n",
            "          32       0.96      0.98      0.97       116\n",
            "          33       0.98      0.99      0.99       266\n",
            "          34       1.00      0.88      0.93        73\n",
            "          35       0.97      0.97      0.97       103\n",
            "          36       1.00      0.98      0.99        99\n",
            "          37       0.91      0.95      0.93       345\n",
            "          38       0.95      0.96      0.96       186\n",
            "          39       0.97      0.97      0.97       316\n",
            "          40       1.00      0.97      0.99        71\n",
            "          41       0.96      0.97      0.96       143\n",
            "          42       1.00      1.00      1.00       137\n",
            "          43       0.99      1.00      0.99       194\n",
            "          44       0.99      0.91      0.95        81\n",
            "          45       0.96      0.98      0.97       337\n",
            "          46       0.99      0.93      0.96        92\n",
            "          48       0.99      0.97      0.98       288\n",
            "          50       0.97      0.96      0.96       135\n",
            "\n",
            "    accuracy                           0.97      8052\n",
            "   macro avg       0.98      0.97      0.97      8052\n",
            "weighted avg       0.97      0.97      0.97      8052\n",
            "\n"
          ]
        }
      ]
    },
    {
      "cell_type": "code",
      "source": [
        "from sklearn.metrics import confusion_matrix\n",
        "import seaborn as sns\n",
        "import matplotlib.pyplot as plt\n",
        "class_names=y_test.unique()\n",
        "\n",
        "\n",
        "# Predictions on the test set using TF-IDF\n",
        "test_predictions_tfidf = logistic_regression_classifier_tfidf.predict(X_test_tfidf)\n",
        "\n",
        "# Confusion Matrix\n",
        "conf_matrix = confusion_matrix(y_test, test_predictions_tfidf)\n",
        "\n",
        "# Set figure size based on the number of classes\n",
        "fig, ax = plt.subplots(figsize=(15, 12))\n",
        "sns.heatmap(conf_matrix, annot=True, fmt='d', cmap='Blues', xticklabels=class_names, yticklabels=class_names, ax=ax)\n",
        "plt.title('Confusion Matrix (Logistic Regression + TF-IDF)')\n",
        "plt.xlabel('Predicted')\n",
        "plt.ylabel('Actual')\n",
        "\n",
        "# Save the plot as an image\n",
        "plt.savefig(PROJECT_FOLDER+'confusion_matrices/confusion_matrix_logistic_regression.png')\n",
        "\n",
        "# Open the saved image file\n",
        "import webbrowser\n",
        "webbrowser.open(PROJECT_FOLDER+'confusion_matrices/confusion_matrix_logistic_regression.png')\n"
      ],
      "metadata": {
        "colab": {
          "base_uri": "https://localhost:8080/",
          "height": 1000
        },
        "id": "kjoin5O-Tncl",
        "outputId": "eb502b7d-a1e6-4af6-8a21-111038123502"
      },
      "execution_count": 74,
      "outputs": [
        {
          "output_type": "execute_result",
          "data": {
            "text/plain": [
              "False"
            ]
          },
          "metadata": {},
          "execution_count": 74
        },
        {
          "output_type": "display_data",
          "data": {
            "text/plain": [
              "<Figure size 1500x1200 with 2 Axes>"
            ],
            "image/png": "[encoded data removed]"
          },
          "metadata": {}
        }
      ]
    },
    {
      "cell_type": "markdown",
      "source": [
        "## Conclusioni"
      ],
      "metadata": {
        "id": "vfFbgQcAFU1B"
      }
    },
    {
      "cell_type": "markdown",
      "source": [
        "Ricapitolando, per risolvere il task di authorship attribuition, abbiamo testato due diverse tecnologie di vettorizzazione: Tf-IDF e Word2Vec. Constatando che TF-idf portava risultati migliori.\n",
        "Abbiamo poi testato diversi modelli di classificazione:\n",
        "1. Naive Bayes\n",
        "2. Logistic Regression\n",
        "3. KNN\n",
        "4. SVM\n",
        "5. Decision tree+ Adaboost\n",
        "\n",
        "Tra questi abbiamo preso i tre modelli di classificazione che hanno dato i migliori risultati: SVM, KNN e Logistic Regression, ed abbiamo svolto una fase di parameter Tuning.\n",
        "Due modelli hanno dato le migliori prestazioni:\n",
        "- Logistic Regression\n",
        "- SVM\n",
        "Considerando, però, che per ottenere performance equivalenti ad SVM con logistic regression, abbiamo dovuto aumentare sensibilmente il valore C, potrebbe essere saggio utilizzare SVM, che ci garantisce una maggiore resistenza all'overfitting, e che potrebbe quindi essere più adatto a nuovi dati non provenienti dal dataset."
      ],
      "metadata": {
        "id": "Hq3vMSsU8JBT"
      }
    }
  ],
  "metadata": {
    "colab": {
      "provenance": [],
      "collapsed_sections": [
        "Tao--q0ZO-yZ",
        "43CvxiPTB5hy"
      ],
      "gpuType": "T4"
    },
    "kernelspec": {
      "display_name": "Python 3",
      "name": "python3"
    },
    "language_info": {
      "name": "python"
    },
    "accelerator": "GPU"
  },
  "nbformat": 4,
  "nbformat_minor": 0
}